{
 "cells": [
  {
   "cell_type": "markdown",
   "metadata": {
    "id": "UIsjjtsF74vf"
   },
   "source": [
    "# Aula 01"
   ]
  },
  {
   "cell_type": "code",
   "execution_count": 1,
   "metadata": {
    "colab": {
     "base_uri": "https://localhost:8080/"
    },
    "executionInfo": {
     "elapsed": 12454,
     "status": "ok",
     "timestamp": 1620076745494,
     "user": {
      "displayName": "Igor Nascimento",
      "photoUrl": "https://lh3.googleusercontent.com/a-/AOh14GiiD_mfY7cQbblpSn6dF4bRpYag-gaU-kU3d_qU-Zc=s64",
      "userId": "06807317618497304252"
     },
     "user_tz": 180
    },
    "id": "jw4JmFUsNPwq",
    "outputId": "699fc1f1-7295-4b0b-ca5c-3a3f19937b9b"
   },
   "outputs": [
    {
     "data": {
      "text/html": [
       "<div>\n",
       "<style scoped>\n",
       "    .dataframe tbody tr th:only-of-type {\n",
       "        vertical-align: middle;\n",
       "    }\n",
       "\n",
       "    .dataframe tbody tr th {\n",
       "        vertical-align: top;\n",
       "    }\n",
       "\n",
       "    .dataframe thead th {\n",
       "        text-align: right;\n",
       "    }\n",
       "</style>\n",
       "<table border=\"1\" class=\"dataframe\">\n",
       "  <thead>\n",
       "    <tr style=\"text-align: right;\">\n",
       "      <th></th>\n",
       "      <th>id</th>\n",
       "      <th>tratamento</th>\n",
       "      <th>tempo</th>\n",
       "      <th>dose</th>\n",
       "      <th>droga</th>\n",
       "      <th>g-0</th>\n",
       "      <th>g-1</th>\n",
       "      <th>g-2</th>\n",
       "      <th>g-3</th>\n",
       "      <th>g-4</th>\n",
       "      <th>...</th>\n",
       "      <th>c-90</th>\n",
       "      <th>c-91</th>\n",
       "      <th>c-92</th>\n",
       "      <th>c-93</th>\n",
       "      <th>c-94</th>\n",
       "      <th>c-95</th>\n",
       "      <th>c-96</th>\n",
       "      <th>c-97</th>\n",
       "      <th>c-98</th>\n",
       "      <th>c-99</th>\n",
       "    </tr>\n",
       "  </thead>\n",
       "  <tbody>\n",
       "    <tr>\n",
       "      <th>0</th>\n",
       "      <td>id_000644bb2</td>\n",
       "      <td>com_droga</td>\n",
       "      <td>24</td>\n",
       "      <td>D1</td>\n",
       "      <td>b68db1d53</td>\n",
       "      <td>1.0620</td>\n",
       "      <td>0.5577</td>\n",
       "      <td>-0.2479</td>\n",
       "      <td>-0.6208</td>\n",
       "      <td>-0.1944</td>\n",
       "      <td>...</td>\n",
       "      <td>0.2862</td>\n",
       "      <td>0.2584</td>\n",
       "      <td>0.8076</td>\n",
       "      <td>0.5523</td>\n",
       "      <td>-0.1912</td>\n",
       "      <td>0.6584</td>\n",
       "      <td>-0.3981</td>\n",
       "      <td>0.2139</td>\n",
       "      <td>0.3801</td>\n",
       "      <td>0.4176</td>\n",
       "    </tr>\n",
       "    <tr>\n",
       "      <th>1</th>\n",
       "      <td>id_000779bfc</td>\n",
       "      <td>com_droga</td>\n",
       "      <td>72</td>\n",
       "      <td>D1</td>\n",
       "      <td>df89a8e5a</td>\n",
       "      <td>0.0743</td>\n",
       "      <td>0.4087</td>\n",
       "      <td>0.2991</td>\n",
       "      <td>0.0604</td>\n",
       "      <td>1.0190</td>\n",
       "      <td>...</td>\n",
       "      <td>-0.4265</td>\n",
       "      <td>0.7543</td>\n",
       "      <td>0.4708</td>\n",
       "      <td>0.0230</td>\n",
       "      <td>0.2957</td>\n",
       "      <td>0.4899</td>\n",
       "      <td>0.1522</td>\n",
       "      <td>0.1241</td>\n",
       "      <td>0.6077</td>\n",
       "      <td>0.7371</td>\n",
       "    </tr>\n",
       "    <tr>\n",
       "      <th>2</th>\n",
       "      <td>id_000a6266a</td>\n",
       "      <td>com_droga</td>\n",
       "      <td>48</td>\n",
       "      <td>D1</td>\n",
       "      <td>18bb41b2c</td>\n",
       "      <td>0.6280</td>\n",
       "      <td>0.5817</td>\n",
       "      <td>1.5540</td>\n",
       "      <td>-0.0764</td>\n",
       "      <td>-0.0323</td>\n",
       "      <td>...</td>\n",
       "      <td>-0.7250</td>\n",
       "      <td>-0.6297</td>\n",
       "      <td>0.6103</td>\n",
       "      <td>0.0223</td>\n",
       "      <td>-1.3240</td>\n",
       "      <td>-0.3174</td>\n",
       "      <td>-0.6417</td>\n",
       "      <td>-0.2187</td>\n",
       "      <td>-1.4080</td>\n",
       "      <td>0.6931</td>\n",
       "    </tr>\n",
       "    <tr>\n",
       "      <th>3</th>\n",
       "      <td>id_0015fd391</td>\n",
       "      <td>com_droga</td>\n",
       "      <td>48</td>\n",
       "      <td>D1</td>\n",
       "      <td>8c7f86626</td>\n",
       "      <td>-0.5138</td>\n",
       "      <td>-0.2491</td>\n",
       "      <td>-0.2656</td>\n",
       "      <td>0.5288</td>\n",
       "      <td>4.0620</td>\n",
       "      <td>...</td>\n",
       "      <td>-2.0990</td>\n",
       "      <td>-0.6441</td>\n",
       "      <td>-5.6300</td>\n",
       "      <td>-1.3780</td>\n",
       "      <td>-0.8632</td>\n",
       "      <td>-1.2880</td>\n",
       "      <td>-1.6210</td>\n",
       "      <td>-0.8784</td>\n",
       "      <td>-0.3876</td>\n",
       "      <td>-0.8154</td>\n",
       "    </tr>\n",
       "    <tr>\n",
       "      <th>4</th>\n",
       "      <td>id_001626bd3</td>\n",
       "      <td>com_droga</td>\n",
       "      <td>72</td>\n",
       "      <td>D2</td>\n",
       "      <td>7cbed3131</td>\n",
       "      <td>-0.3254</td>\n",
       "      <td>-0.4009</td>\n",
       "      <td>0.9700</td>\n",
       "      <td>0.6919</td>\n",
       "      <td>1.4180</td>\n",
       "      <td>...</td>\n",
       "      <td>0.0042</td>\n",
       "      <td>0.0048</td>\n",
       "      <td>0.6670</td>\n",
       "      <td>1.0690</td>\n",
       "      <td>0.5523</td>\n",
       "      <td>-0.3031</td>\n",
       "      <td>0.1094</td>\n",
       "      <td>0.2885</td>\n",
       "      <td>-0.3786</td>\n",
       "      <td>0.7125</td>\n",
       "    </tr>\n",
       "    <tr>\n",
       "      <th>...</th>\n",
       "      <td>...</td>\n",
       "      <td>...</td>\n",
       "      <td>...</td>\n",
       "      <td>...</td>\n",
       "      <td>...</td>\n",
       "      <td>...</td>\n",
       "      <td>...</td>\n",
       "      <td>...</td>\n",
       "      <td>...</td>\n",
       "      <td>...</td>\n",
       "      <td>...</td>\n",
       "      <td>...</td>\n",
       "      <td>...</td>\n",
       "      <td>...</td>\n",
       "      <td>...</td>\n",
       "      <td>...</td>\n",
       "      <td>...</td>\n",
       "      <td>...</td>\n",
       "      <td>...</td>\n",
       "      <td>...</td>\n",
       "      <td>...</td>\n",
       "    </tr>\n",
       "    <tr>\n",
       "      <th>23809</th>\n",
       "      <td>id_fffb1ceed</td>\n",
       "      <td>com_droga</td>\n",
       "      <td>24</td>\n",
       "      <td>D2</td>\n",
       "      <td>df1d0a5a1</td>\n",
       "      <td>0.1394</td>\n",
       "      <td>-0.0636</td>\n",
       "      <td>-0.1112</td>\n",
       "      <td>-0.5080</td>\n",
       "      <td>-0.4713</td>\n",
       "      <td>...</td>\n",
       "      <td>0.1969</td>\n",
       "      <td>0.0262</td>\n",
       "      <td>-0.8121</td>\n",
       "      <td>0.3434</td>\n",
       "      <td>0.5372</td>\n",
       "      <td>-0.3246</td>\n",
       "      <td>0.0631</td>\n",
       "      <td>0.9171</td>\n",
       "      <td>0.5258</td>\n",
       "      <td>0.4680</td>\n",
       "    </tr>\n",
       "    <tr>\n",
       "      <th>23810</th>\n",
       "      <td>id_fffb70c0c</td>\n",
       "      <td>com_droga</td>\n",
       "      <td>24</td>\n",
       "      <td>D2</td>\n",
       "      <td>ecf3b6b74</td>\n",
       "      <td>-1.3260</td>\n",
       "      <td>0.3478</td>\n",
       "      <td>-0.3743</td>\n",
       "      <td>0.9905</td>\n",
       "      <td>-0.7178</td>\n",
       "      <td>...</td>\n",
       "      <td>0.4286</td>\n",
       "      <td>0.4426</td>\n",
       "      <td>0.0423</td>\n",
       "      <td>-0.3195</td>\n",
       "      <td>-0.8086</td>\n",
       "      <td>-0.9798</td>\n",
       "      <td>-0.2084</td>\n",
       "      <td>-0.1224</td>\n",
       "      <td>-0.2715</td>\n",
       "      <td>0.3689</td>\n",
       "    </tr>\n",
       "    <tr>\n",
       "      <th>23811</th>\n",
       "      <td>id_fffc1c3f4</td>\n",
       "      <td>com_controle</td>\n",
       "      <td>48</td>\n",
       "      <td>D2</td>\n",
       "      <td>cacb2b860</td>\n",
       "      <td>0.3942</td>\n",
       "      <td>0.3756</td>\n",
       "      <td>0.3109</td>\n",
       "      <td>-0.7389</td>\n",
       "      <td>0.5505</td>\n",
       "      <td>...</td>\n",
       "      <td>0.5409</td>\n",
       "      <td>0.3755</td>\n",
       "      <td>0.7343</td>\n",
       "      <td>0.2807</td>\n",
       "      <td>0.4116</td>\n",
       "      <td>0.6422</td>\n",
       "      <td>0.2256</td>\n",
       "      <td>0.7592</td>\n",
       "      <td>0.6656</td>\n",
       "      <td>0.3808</td>\n",
       "    </tr>\n",
       "    <tr>\n",
       "      <th>23812</th>\n",
       "      <td>id_fffcb9e7c</td>\n",
       "      <td>com_droga</td>\n",
       "      <td>24</td>\n",
       "      <td>D1</td>\n",
       "      <td>8b87a7a83</td>\n",
       "      <td>0.6660</td>\n",
       "      <td>0.2324</td>\n",
       "      <td>0.4392</td>\n",
       "      <td>0.2044</td>\n",
       "      <td>0.8531</td>\n",
       "      <td>...</td>\n",
       "      <td>-0.1105</td>\n",
       "      <td>0.4258</td>\n",
       "      <td>-0.2012</td>\n",
       "      <td>0.1506</td>\n",
       "      <td>1.5230</td>\n",
       "      <td>0.7101</td>\n",
       "      <td>0.1732</td>\n",
       "      <td>0.7015</td>\n",
       "      <td>-0.6290</td>\n",
       "      <td>0.0740</td>\n",
       "    </tr>\n",
       "    <tr>\n",
       "      <th>23813</th>\n",
       "      <td>id_ffffdd77b</td>\n",
       "      <td>com_droga</td>\n",
       "      <td>72</td>\n",
       "      <td>D1</td>\n",
       "      <td>972f41291</td>\n",
       "      <td>-0.8598</td>\n",
       "      <td>1.0240</td>\n",
       "      <td>-0.1361</td>\n",
       "      <td>0.7952</td>\n",
       "      <td>-0.3611</td>\n",
       "      <td>...</td>\n",
       "      <td>-3.3890</td>\n",
       "      <td>-1.7450</td>\n",
       "      <td>-6.6300</td>\n",
       "      <td>-4.0950</td>\n",
       "      <td>-7.3860</td>\n",
       "      <td>-1.4160</td>\n",
       "      <td>-3.5770</td>\n",
       "      <td>-0.4775</td>\n",
       "      <td>-2.1500</td>\n",
       "      <td>-4.2520</td>\n",
       "    </tr>\n",
       "  </tbody>\n",
       "</table>\n",
       "<p>23814 rows × 877 columns</p>\n",
       "</div>"
      ],
      "text/plain": [
       "                 id    tratamento  tempo dose      droga     g-0     g-1  \\\n",
       "0      id_000644bb2     com_droga     24   D1  b68db1d53  1.0620  0.5577   \n",
       "1      id_000779bfc     com_droga     72   D1  df89a8e5a  0.0743  0.4087   \n",
       "2      id_000a6266a     com_droga     48   D1  18bb41b2c  0.6280  0.5817   \n",
       "3      id_0015fd391     com_droga     48   D1  8c7f86626 -0.5138 -0.2491   \n",
       "4      id_001626bd3     com_droga     72   D2  7cbed3131 -0.3254 -0.4009   \n",
       "...             ...           ...    ...  ...        ...     ...     ...   \n",
       "23809  id_fffb1ceed     com_droga     24   D2  df1d0a5a1  0.1394 -0.0636   \n",
       "23810  id_fffb70c0c     com_droga     24   D2  ecf3b6b74 -1.3260  0.3478   \n",
       "23811  id_fffc1c3f4  com_controle     48   D2  cacb2b860  0.3942  0.3756   \n",
       "23812  id_fffcb9e7c     com_droga     24   D1  8b87a7a83  0.6660  0.2324   \n",
       "23813  id_ffffdd77b     com_droga     72   D1  972f41291 -0.8598  1.0240   \n",
       "\n",
       "          g-2     g-3     g-4  ...    c-90    c-91    c-92    c-93    c-94  \\\n",
       "0     -0.2479 -0.6208 -0.1944  ...  0.2862  0.2584  0.8076  0.5523 -0.1912   \n",
       "1      0.2991  0.0604  1.0190  ... -0.4265  0.7543  0.4708  0.0230  0.2957   \n",
       "2      1.5540 -0.0764 -0.0323  ... -0.7250 -0.6297  0.6103  0.0223 -1.3240   \n",
       "3     -0.2656  0.5288  4.0620  ... -2.0990 -0.6441 -5.6300 -1.3780 -0.8632   \n",
       "4      0.9700  0.6919  1.4180  ...  0.0042  0.0048  0.6670  1.0690  0.5523   \n",
       "...       ...     ...     ...  ...     ...     ...     ...     ...     ...   \n",
       "23809 -0.1112 -0.5080 -0.4713  ...  0.1969  0.0262 -0.8121  0.3434  0.5372   \n",
       "23810 -0.3743  0.9905 -0.7178  ...  0.4286  0.4426  0.0423 -0.3195 -0.8086   \n",
       "23811  0.3109 -0.7389  0.5505  ...  0.5409  0.3755  0.7343  0.2807  0.4116   \n",
       "23812  0.4392  0.2044  0.8531  ... -0.1105  0.4258 -0.2012  0.1506  1.5230   \n",
       "23813 -0.1361  0.7952 -0.3611  ... -3.3890 -1.7450 -6.6300 -4.0950 -7.3860   \n",
       "\n",
       "         c-95    c-96    c-97    c-98    c-99  \n",
       "0      0.6584 -0.3981  0.2139  0.3801  0.4176  \n",
       "1      0.4899  0.1522  0.1241  0.6077  0.7371  \n",
       "2     -0.3174 -0.6417 -0.2187 -1.4080  0.6931  \n",
       "3     -1.2880 -1.6210 -0.8784 -0.3876 -0.8154  \n",
       "4     -0.3031  0.1094  0.2885 -0.3786  0.7125  \n",
       "...       ...     ...     ...     ...     ...  \n",
       "23809 -0.3246  0.0631  0.9171  0.5258  0.4680  \n",
       "23810 -0.9798 -0.2084 -0.1224 -0.2715  0.3689  \n",
       "23811  0.6422  0.2256  0.7592  0.6656  0.3808  \n",
       "23812  0.7101  0.1732  0.7015 -0.6290  0.0740  \n",
       "23813 -1.4160 -3.5770 -0.4775 -2.1500 -4.2520  \n",
       "\n",
       "[23814 rows x 877 columns]"
      ]
     },
     "execution_count": 1,
     "metadata": {},
     "output_type": "execute_result"
    }
   ],
   "source": [
    "import pandas as pd\n",
    "\n",
    "url_dados = 'https://github.com/alura-cursos/imersaodados3/blob/main/dados/dados_experimentos.zip?raw=true'\n",
    "\n",
    "dados = pd.read_csv(url_dados, compression = 'zip')\n",
    "dados"
   ]
  },
  {
   "cell_type": "code",
   "execution_count": 2,
   "metadata": {
    "colab": {
     "base_uri": "https://localhost:8080/"
    },
    "executionInfo": {
     "elapsed": 12342,
     "status": "ok",
     "timestamp": 1620076745508,
     "user": {
      "displayName": "Igor Nascimento",
      "photoUrl": "https://lh3.googleusercontent.com/a-/AOh14GiiD_mfY7cQbblpSn6dF4bRpYag-gaU-kU3d_qU-Zc=s64",
      "userId": "06807317618497304252"
     },
     "user_tz": 180
    },
    "id": "qBvT4sBNNPws",
    "outputId": "2e4e4ce2-14ae-4cbe-f62e-101adb0af7ac"
   },
   "outputs": [
    {
     "data": {
      "text/html": [
       "<div>\n",
       "<style scoped>\n",
       "    .dataframe tbody tr th:only-of-type {\n",
       "        vertical-align: middle;\n",
       "    }\n",
       "\n",
       "    .dataframe tbody tr th {\n",
       "        vertical-align: top;\n",
       "    }\n",
       "\n",
       "    .dataframe thead th {\n",
       "        text-align: right;\n",
       "    }\n",
       "</style>\n",
       "<table border=\"1\" class=\"dataframe\">\n",
       "  <thead>\n",
       "    <tr style=\"text-align: right;\">\n",
       "      <th></th>\n",
       "      <th>id</th>\n",
       "      <th>tratamento</th>\n",
       "      <th>tempo</th>\n",
       "      <th>dose</th>\n",
       "      <th>droga</th>\n",
       "      <th>g-0</th>\n",
       "      <th>g-1</th>\n",
       "      <th>g-2</th>\n",
       "      <th>g-3</th>\n",
       "      <th>g-4</th>\n",
       "      <th>...</th>\n",
       "      <th>c-90</th>\n",
       "      <th>c-91</th>\n",
       "      <th>c-92</th>\n",
       "      <th>c-93</th>\n",
       "      <th>c-94</th>\n",
       "      <th>c-95</th>\n",
       "      <th>c-96</th>\n",
       "      <th>c-97</th>\n",
       "      <th>c-98</th>\n",
       "      <th>c-99</th>\n",
       "    </tr>\n",
       "  </thead>\n",
       "  <tbody>\n",
       "    <tr>\n",
       "      <th>0</th>\n",
       "      <td>id_000644bb2</td>\n",
       "      <td>com_droga</td>\n",
       "      <td>24</td>\n",
       "      <td>D1</td>\n",
       "      <td>b68db1d53</td>\n",
       "      <td>1.0620</td>\n",
       "      <td>0.5577</td>\n",
       "      <td>-0.2479</td>\n",
       "      <td>-0.6208</td>\n",
       "      <td>-0.1944</td>\n",
       "      <td>...</td>\n",
       "      <td>0.2862</td>\n",
       "      <td>0.2584</td>\n",
       "      <td>0.8076</td>\n",
       "      <td>0.5523</td>\n",
       "      <td>-0.1912</td>\n",
       "      <td>0.6584</td>\n",
       "      <td>-0.3981</td>\n",
       "      <td>0.2139</td>\n",
       "      <td>0.3801</td>\n",
       "      <td>0.4176</td>\n",
       "    </tr>\n",
       "    <tr>\n",
       "      <th>1</th>\n",
       "      <td>id_000779bfc</td>\n",
       "      <td>com_droga</td>\n",
       "      <td>72</td>\n",
       "      <td>D1</td>\n",
       "      <td>df89a8e5a</td>\n",
       "      <td>0.0743</td>\n",
       "      <td>0.4087</td>\n",
       "      <td>0.2991</td>\n",
       "      <td>0.0604</td>\n",
       "      <td>1.0190</td>\n",
       "      <td>...</td>\n",
       "      <td>-0.4265</td>\n",
       "      <td>0.7543</td>\n",
       "      <td>0.4708</td>\n",
       "      <td>0.0230</td>\n",
       "      <td>0.2957</td>\n",
       "      <td>0.4899</td>\n",
       "      <td>0.1522</td>\n",
       "      <td>0.1241</td>\n",
       "      <td>0.6077</td>\n",
       "      <td>0.7371</td>\n",
       "    </tr>\n",
       "    <tr>\n",
       "      <th>2</th>\n",
       "      <td>id_000a6266a</td>\n",
       "      <td>com_droga</td>\n",
       "      <td>48</td>\n",
       "      <td>D1</td>\n",
       "      <td>18bb41b2c</td>\n",
       "      <td>0.6280</td>\n",
       "      <td>0.5817</td>\n",
       "      <td>1.5540</td>\n",
       "      <td>-0.0764</td>\n",
       "      <td>-0.0323</td>\n",
       "      <td>...</td>\n",
       "      <td>-0.7250</td>\n",
       "      <td>-0.6297</td>\n",
       "      <td>0.6103</td>\n",
       "      <td>0.0223</td>\n",
       "      <td>-1.3240</td>\n",
       "      <td>-0.3174</td>\n",
       "      <td>-0.6417</td>\n",
       "      <td>-0.2187</td>\n",
       "      <td>-1.4080</td>\n",
       "      <td>0.6931</td>\n",
       "    </tr>\n",
       "    <tr>\n",
       "      <th>3</th>\n",
       "      <td>id_0015fd391</td>\n",
       "      <td>com_droga</td>\n",
       "      <td>48</td>\n",
       "      <td>D1</td>\n",
       "      <td>8c7f86626</td>\n",
       "      <td>-0.5138</td>\n",
       "      <td>-0.2491</td>\n",
       "      <td>-0.2656</td>\n",
       "      <td>0.5288</td>\n",
       "      <td>4.0620</td>\n",
       "      <td>...</td>\n",
       "      <td>-2.0990</td>\n",
       "      <td>-0.6441</td>\n",
       "      <td>-5.6300</td>\n",
       "      <td>-1.3780</td>\n",
       "      <td>-0.8632</td>\n",
       "      <td>-1.2880</td>\n",
       "      <td>-1.6210</td>\n",
       "      <td>-0.8784</td>\n",
       "      <td>-0.3876</td>\n",
       "      <td>-0.8154</td>\n",
       "    </tr>\n",
       "    <tr>\n",
       "      <th>4</th>\n",
       "      <td>id_001626bd3</td>\n",
       "      <td>com_droga</td>\n",
       "      <td>72</td>\n",
       "      <td>D2</td>\n",
       "      <td>7cbed3131</td>\n",
       "      <td>-0.3254</td>\n",
       "      <td>-0.4009</td>\n",
       "      <td>0.9700</td>\n",
       "      <td>0.6919</td>\n",
       "      <td>1.4180</td>\n",
       "      <td>...</td>\n",
       "      <td>0.0042</td>\n",
       "      <td>0.0048</td>\n",
       "      <td>0.6670</td>\n",
       "      <td>1.0690</td>\n",
       "      <td>0.5523</td>\n",
       "      <td>-0.3031</td>\n",
       "      <td>0.1094</td>\n",
       "      <td>0.2885</td>\n",
       "      <td>-0.3786</td>\n",
       "      <td>0.7125</td>\n",
       "    </tr>\n",
       "  </tbody>\n",
       "</table>\n",
       "<p>5 rows × 877 columns</p>\n",
       "</div>"
      ],
      "text/plain": [
       "             id tratamento  tempo dose      droga     g-0     g-1     g-2  \\\n",
       "0  id_000644bb2  com_droga     24   D1  b68db1d53  1.0620  0.5577 -0.2479   \n",
       "1  id_000779bfc  com_droga     72   D1  df89a8e5a  0.0743  0.4087  0.2991   \n",
       "2  id_000a6266a  com_droga     48   D1  18bb41b2c  0.6280  0.5817  1.5540   \n",
       "3  id_0015fd391  com_droga     48   D1  8c7f86626 -0.5138 -0.2491 -0.2656   \n",
       "4  id_001626bd3  com_droga     72   D2  7cbed3131 -0.3254 -0.4009  0.9700   \n",
       "\n",
       "      g-3     g-4  ...    c-90    c-91    c-92    c-93    c-94    c-95  \\\n",
       "0 -0.6208 -0.1944  ...  0.2862  0.2584  0.8076  0.5523 -0.1912  0.6584   \n",
       "1  0.0604  1.0190  ... -0.4265  0.7543  0.4708  0.0230  0.2957  0.4899   \n",
       "2 -0.0764 -0.0323  ... -0.7250 -0.6297  0.6103  0.0223 -1.3240 -0.3174   \n",
       "3  0.5288  4.0620  ... -2.0990 -0.6441 -5.6300 -1.3780 -0.8632 -1.2880   \n",
       "4  0.6919  1.4180  ...  0.0042  0.0048  0.6670  1.0690  0.5523 -0.3031   \n",
       "\n",
       "     c-96    c-97    c-98    c-99  \n",
       "0 -0.3981  0.2139  0.3801  0.4176  \n",
       "1  0.1522  0.1241  0.6077  0.7371  \n",
       "2 -0.6417 -0.2187 -1.4080  0.6931  \n",
       "3 -1.6210 -0.8784 -0.3876 -0.8154  \n",
       "4  0.1094  0.2885 -0.3786  0.7125  \n",
       "\n",
       "[5 rows x 877 columns]"
      ]
     },
     "execution_count": 2,
     "metadata": {},
     "output_type": "execute_result"
    }
   ],
   "source": [
    "dados.head()"
   ]
  },
  {
   "cell_type": "code",
   "execution_count": 3,
   "metadata": {
    "colab": {
     "base_uri": "https://localhost:8080/"
    },
    "executionInfo": {
     "elapsed": 12297,
     "status": "ok",
     "timestamp": 1620076745538,
     "user": {
      "displayName": "Igor Nascimento",
      "photoUrl": "https://lh3.googleusercontent.com/a-/AOh14GiiD_mfY7cQbblpSn6dF4bRpYag-gaU-kU3d_qU-Zc=s64",
      "userId": "06807317618497304252"
     },
     "user_tz": 180
    },
    "id": "fYdow_XdNPws",
    "outputId": "27496e05-726a-4ec2-c4d8-0f95717f332a"
   },
   "outputs": [
    {
     "data": {
      "text/plain": [
       "(23814, 877)"
      ]
     },
     "execution_count": 3,
     "metadata": {},
     "output_type": "execute_result"
    }
   ],
   "source": [
    "dados.shape"
   ]
  },
  {
   "cell_type": "code",
   "execution_count": 4,
   "metadata": {
    "colab": {
     "base_uri": "https://localhost:8080/"
    },
    "executionInfo": {
     "elapsed": 12257,
     "status": "ok",
     "timestamp": 1620076745542,
     "user": {
      "displayName": "Igor Nascimento",
      "photoUrl": "https://lh3.googleusercontent.com/a-/AOh14GiiD_mfY7cQbblpSn6dF4bRpYag-gaU-kU3d_qU-Zc=s64",
      "userId": "06807317618497304252"
     },
     "user_tz": 180
    },
    "id": "zOmQRiUTNPwt",
    "outputId": "37392be0-ac8f-479f-ec98-727025f50d46"
   },
   "outputs": [
    {
     "data": {
      "text/plain": [
       "0           com_droga\n",
       "1           com_droga\n",
       "2           com_droga\n",
       "3           com_droga\n",
       "4           com_droga\n",
       "             ...     \n",
       "23809       com_droga\n",
       "23810       com_droga\n",
       "23811    com_controle\n",
       "23812       com_droga\n",
       "23813       com_droga\n",
       "Name: tratamento, Length: 23814, dtype: object"
      ]
     },
     "execution_count": 4,
     "metadata": {},
     "output_type": "execute_result"
    }
   ],
   "source": [
    "dados['tratamento']"
   ]
  },
  {
   "cell_type": "code",
   "execution_count": 5,
   "metadata": {
    "colab": {
     "base_uri": "https://localhost:8080/"
    },
    "executionInfo": {
     "elapsed": 12233,
     "status": "ok",
     "timestamp": 1620076745547,
     "user": {
      "displayName": "Igor Nascimento",
      "photoUrl": "https://lh3.googleusercontent.com/a-/AOh14GiiD_mfY7cQbblpSn6dF4bRpYag-gaU-kU3d_qU-Zc=s64",
      "userId": "06807317618497304252"
     },
     "user_tz": 180
    },
    "id": "BrCJ2TzSNPwt",
    "outputId": "77052d0c-c970-43b2-c701-dc5d8bcec81d"
   },
   "outputs": [
    {
     "data": {
      "text/plain": [
       "array(['com_droga', 'com_controle'], dtype=object)"
      ]
     },
     "execution_count": 5,
     "metadata": {},
     "output_type": "execute_result"
    }
   ],
   "source": [
    "dados['tratamento'].unique()"
   ]
  },
  {
   "cell_type": "code",
   "execution_count": 6,
   "metadata": {
    "colab": {
     "base_uri": "https://localhost:8080/"
    },
    "executionInfo": {
     "elapsed": 12201,
     "status": "ok",
     "timestamp": 1620076745554,
     "user": {
      "displayName": "Igor Nascimento",
      "photoUrl": "https://lh3.googleusercontent.com/a-/AOh14GiiD_mfY7cQbblpSn6dF4bRpYag-gaU-kU3d_qU-Zc=s64",
      "userId": "06807317618497304252"
     },
     "user_tz": 180
    },
    "id": "d-eF7mPaNPwt",
    "outputId": "1156ef8a-c302-4ff9-b7b9-9ec1e2cadc1f"
   },
   "outputs": [
    {
     "data": {
      "text/plain": [
       "array([24, 72, 48], dtype=int64)"
      ]
     },
     "execution_count": 6,
     "metadata": {},
     "output_type": "execute_result"
    }
   ],
   "source": [
    "dados['tempo'].unique()"
   ]
  },
  {
   "cell_type": "code",
   "execution_count": 7,
   "metadata": {
    "colab": {
     "base_uri": "https://localhost:8080/"
    },
    "executionInfo": {
     "elapsed": 12191,
     "status": "ok",
     "timestamp": 1620076745569,
     "user": {
      "displayName": "Igor Nascimento",
      "photoUrl": "https://lh3.googleusercontent.com/a-/AOh14GiiD_mfY7cQbblpSn6dF4bRpYag-gaU-kU3d_qU-Zc=s64",
      "userId": "06807317618497304252"
     },
     "user_tz": 180
    },
    "id": "Zgm1XiOeNPwu",
    "outputId": "2fd83255-3c11-433e-f1fc-e2dd247acccb"
   },
   "outputs": [
    {
     "data": {
      "text/plain": [
       "array(['D1', 'D2'], dtype=object)"
      ]
     },
     "execution_count": 7,
     "metadata": {},
     "output_type": "execute_result"
    }
   ],
   "source": [
    "dados['dose'].unique()"
   ]
  },
  {
   "cell_type": "code",
   "execution_count": 8,
   "metadata": {
    "colab": {
     "base_uri": "https://localhost:8080/"
    },
    "executionInfo": {
     "elapsed": 12173,
     "status": "ok",
     "timestamp": 1620076745578,
     "user": {
      "displayName": "Igor Nascimento",
      "photoUrl": "https://lh3.googleusercontent.com/a-/AOh14GiiD_mfY7cQbblpSn6dF4bRpYag-gaU-kU3d_qU-Zc=s64",
      "userId": "06807317618497304252"
     },
     "user_tz": 180
    },
    "id": "dByGDqcGNPwu",
    "outputId": "7054480b-a6d0-4515-e45d-1ad0c64e684b"
   },
   "outputs": [
    {
     "data": {
      "text/plain": [
       "array(['b68db1d53', 'df89a8e5a', '18bb41b2c', ..., '573c787a2',\n",
       "       'b2fe3eca7', 'dd4a96d16'], dtype=object)"
      ]
     },
     "execution_count": 8,
     "metadata": {},
     "output_type": "execute_result"
    }
   ],
   "source": [
    "dados['droga'].unique()"
   ]
  },
  {
   "cell_type": "code",
   "execution_count": 9,
   "metadata": {
    "colab": {
     "base_uri": "https://localhost:8080/"
    },
    "executionInfo": {
     "elapsed": 12175,
     "status": "ok",
     "timestamp": 1620076745601,
     "user": {
      "displayName": "Igor Nascimento",
      "photoUrl": "https://lh3.googleusercontent.com/a-/AOh14GiiD_mfY7cQbblpSn6dF4bRpYag-gaU-kU3d_qU-Zc=s64",
      "userId": "06807317618497304252"
     },
     "user_tz": 180
    },
    "id": "hvdM3kYSNPwv",
    "outputId": "ca132088-9e43-44a0-9a73-7da7ec2277ac"
   },
   "outputs": [
    {
     "data": {
      "text/plain": [
       "array([ 1.062 ,  0.0743,  0.628 , ...,  0.3942,  0.666 , -0.8598])"
      ]
     },
     "execution_count": 9,
     "metadata": {},
     "output_type": "execute_result"
    }
   ],
   "source": [
    "dados['g-0'].unique()"
   ]
  },
  {
   "cell_type": "code",
   "execution_count": 10,
   "metadata": {
    "colab": {
     "base_uri": "https://localhost:8080/"
    },
    "executionInfo": {
     "elapsed": 13348,
     "status": "ok",
     "timestamp": 1620076746797,
     "user": {
      "displayName": "Igor Nascimento",
      "photoUrl": "https://lh3.googleusercontent.com/a-/AOh14GiiD_mfY7cQbblpSn6dF4bRpYag-gaU-kU3d_qU-Zc=s64",
      "userId": "06807317618497304252"
     },
     "user_tz": 180
    },
    "id": "ZwjZj1F6NPwv",
    "outputId": "33830186-6ae3-4b01-d6c7-d7f49b13d15b"
   },
   "outputs": [
    {
     "data": {
      "text/plain": [
       "com_droga       21948\n",
       "com_controle     1866\n",
       "Name: tratamento, dtype: int64"
      ]
     },
     "execution_count": 10,
     "metadata": {},
     "output_type": "execute_result"
    }
   ],
   "source": [
    "dados['tratamento'].value_counts()"
   ]
  },
  {
   "cell_type": "code",
   "execution_count": 11,
   "metadata": {
    "colab": {
     "base_uri": "https://localhost:8080/"
    },
    "executionInfo": {
     "elapsed": 13333,
     "status": "ok",
     "timestamp": 1620076746808,
     "user": {
      "displayName": "Igor Nascimento",
      "photoUrl": "https://lh3.googleusercontent.com/a-/AOh14GiiD_mfY7cQbblpSn6dF4bRpYag-gaU-kU3d_qU-Zc=s64",
      "userId": "06807317618497304252"
     },
     "user_tz": 180
    },
    "id": "8buFt2cKNPwv",
    "outputId": "4255fef8-14ed-4a1b-dc17-4c75e16c2dfc"
   },
   "outputs": [
    {
     "data": {
      "text/plain": [
       "D1    12147\n",
       "D2    11667\n",
       "Name: dose, dtype: int64"
      ]
     },
     "execution_count": 11,
     "metadata": {},
     "output_type": "execute_result"
    }
   ],
   "source": [
    "dados['dose'].value_counts()"
   ]
  },
  {
   "cell_type": "code",
   "execution_count": 12,
   "metadata": {
    "colab": {
     "base_uri": "https://localhost:8080/"
    },
    "executionInfo": {
     "elapsed": 13302,
     "status": "ok",
     "timestamp": 1620076746811,
     "user": {
      "displayName": "Igor Nascimento",
      "photoUrl": "https://lh3.googleusercontent.com/a-/AOh14GiiD_mfY7cQbblpSn6dF4bRpYag-gaU-kU3d_qU-Zc=s64",
      "userId": "06807317618497304252"
     },
     "user_tz": 180
    },
    "id": "jmkevYGTNPww",
    "outputId": "e7874eba-af1c-4d99-e987-c702f4d9c1ec"
   },
   "outputs": [
    {
     "data": {
      "text/plain": [
       "com_droga       0.921643\n",
       "com_controle    0.078357\n",
       "Name: tratamento, dtype: float64"
      ]
     },
     "execution_count": 12,
     "metadata": {},
     "output_type": "execute_result"
    }
   ],
   "source": [
    "dados['tratamento'].value_counts(normalize = True)"
   ]
  },
  {
   "cell_type": "code",
   "execution_count": 13,
   "metadata": {
    "colab": {
     "base_uri": "https://localhost:8080/"
    },
    "executionInfo": {
     "elapsed": 13281,
     "status": "ok",
     "timestamp": 1620076746814,
     "user": {
      "displayName": "Igor Nascimento",
      "photoUrl": "https://lh3.googleusercontent.com/a-/AOh14GiiD_mfY7cQbblpSn6dF4bRpYag-gaU-kU3d_qU-Zc=s64",
      "userId": "06807317618497304252"
     },
     "user_tz": 180
    },
    "id": "owgn4RkDNPww",
    "outputId": "f75c1852-7849-4535-be1d-865e102c3c01"
   },
   "outputs": [
    {
     "data": {
      "text/plain": [
       "D1    0.510078\n",
       "D2    0.489922\n",
       "Name: dose, dtype: float64"
      ]
     },
     "execution_count": 13,
     "metadata": {},
     "output_type": "execute_result"
    }
   ],
   "source": [
    "dados['dose'].value_counts(normalize = True)"
   ]
  },
  {
   "cell_type": "code",
   "execution_count": 14,
   "metadata": {
    "colab": {
     "base_uri": "https://localhost:8080/"
    },
    "executionInfo": {
     "elapsed": 13247,
     "status": "ok",
     "timestamp": 1620076746825,
     "user": {
      "displayName": "Igor Nascimento",
      "photoUrl": "https://lh3.googleusercontent.com/a-/AOh14GiiD_mfY7cQbblpSn6dF4bRpYag-gaU-kU3d_qU-Zc=s64",
      "userId": "06807317618497304252"
     },
     "user_tz": 180
    },
    "id": "OzMt7-vdNPwx",
    "outputId": "093c146e-5c90-42e6-a223-54c224ce50d6"
   },
   "outputs": [
    {
     "data": {
      "text/plain": [
       "<AxesSubplot:ylabel='tratamento'>"
      ]
     },
     "execution_count": 14,
     "metadata": {},
     "output_type": "execute_result"
    },
    {
     "data": {
      "image/png": "[encoded data removed]",
      "text/plain": [
       "<Figure size 432x288 with 1 Axes>"
      ]
     },
     "metadata": {},
     "output_type": "display_data"
    }
   ],
   "source": [
    "dados['tratamento'].value_counts().plot.pie()"
   ]
  },
  {
   "cell_type": "code",
   "execution_count": 15,
   "metadata": {
    "colab": {
     "base_uri": "https://localhost:8080/"
    },
    "executionInfo": {
     "elapsed": 13262,
     "status": "ok",
     "timestamp": 1620076746883,
     "user": {
      "displayName": "Igor Nascimento",
      "photoUrl": "https://lh3.googleusercontent.com/a-/AOh14GiiD_mfY7cQbblpSn6dF4bRpYag-gaU-kU3d_qU-Zc=s64",
      "userId": "06807317618497304252"
     },
     "user_tz": 180
    },
    "id": "wTkLLtMnNPwx",
    "outputId": "084fc0b2-e7a4-486e-990f-5e721ed0d2de"
   },
   "outputs": [
    {
     "data": {
      "text/plain": [
       "<AxesSubplot:ylabel='tempo'>"
      ]
     },
     "execution_count": 15,
     "metadata": {},
     "output_type": "execute_result"
    },
    {
     "data": {
      "image/png": "[encoded data removed]",
      "text/plain": [
       "<Figure size 432x288 with 1 Axes>"
      ]
     },
     "metadata": {},
     "output_type": "display_data"
    }
   ],
   "source": [
    "dados['tempo'].value_counts().plot.pie()"
   ]
  },
  {
   "cell_type": "code",
   "execution_count": 16,
   "metadata": {
    "colab": {
     "base_uri": "https://localhost:8080/"
    },
    "executionInfo": {
     "elapsed": 13229,
     "status": "ok",
     "timestamp": 1620076746891,
     "user": {
      "displayName": "Igor Nascimento",
      "photoUrl": "https://lh3.googleusercontent.com/a-/AOh14GiiD_mfY7cQbblpSn6dF4bRpYag-gaU-kU3d_qU-Zc=s64",
      "userId": "06807317618497304252"
     },
     "user_tz": 180
    },
    "id": "ArVvC7PRNPwx",
    "outputId": "292c509a-b1bd-485d-9066-139fa7cc87a7"
   },
   "outputs": [
    {
     "data": {
      "text/plain": [
       "<AxesSubplot:>"
      ]
     },
     "execution_count": 16,
     "metadata": {},
     "output_type": "execute_result"
    },
    {
     "data": {
      "image/png": "[encoded data removed]",
      "text/plain": [
       "<Figure size 432x288 with 1 Axes>"
      ]
     },
     "metadata": {
      "needs_background": "light"
     },
     "output_type": "display_data"
    }
   ],
   "source": [
    "dados['tempo'].value_counts().plot.bar()"
   ]
  },
  {
   "cell_type": "code",
   "execution_count": 17,
   "metadata": {
    "colab": {
     "base_uri": "https://localhost:8080/"
    },
    "executionInfo": {
     "elapsed": 13169,
     "status": "ok",
     "timestamp": 1620076746899,
     "user": {
      "displayName": "Igor Nascimento",
      "photoUrl": "https://lh3.googleusercontent.com/a-/AOh14GiiD_mfY7cQbblpSn6dF4bRpYag-gaU-kU3d_qU-Zc=s64",
      "userId": "06807317618497304252"
     },
     "user_tz": 180
    },
    "id": "ngAH-Ir6NPwy",
    "outputId": "1fc7c10d-713b-45dd-fd11-99414c379631"
   },
   "outputs": [
    {
     "data": {
      "text/html": [
       "<div>\n",
       "<style scoped>\n",
       "    .dataframe tbody tr th:only-of-type {\n",
       "        vertical-align: middle;\n",
       "    }\n",
       "\n",
       "    .dataframe tbody tr th {\n",
       "        vertical-align: top;\n",
       "    }\n",
       "\n",
       "    .dataframe thead th {\n",
       "        text-align: right;\n",
       "    }\n",
       "</style>\n",
       "<table border=\"1\" class=\"dataframe\">\n",
       "  <thead>\n",
       "    <tr style=\"text-align: right;\">\n",
       "      <th></th>\n",
       "      <th>id</th>\n",
       "      <th>tratamento</th>\n",
       "      <th>tempo</th>\n",
       "      <th>dose</th>\n",
       "      <th>droga</th>\n",
       "      <th>g-0</th>\n",
       "      <th>g-1</th>\n",
       "      <th>g-2</th>\n",
       "      <th>g-3</th>\n",
       "      <th>g-4</th>\n",
       "      <th>...</th>\n",
       "      <th>c-90</th>\n",
       "      <th>c-91</th>\n",
       "      <th>c-92</th>\n",
       "      <th>c-93</th>\n",
       "      <th>c-94</th>\n",
       "      <th>c-95</th>\n",
       "      <th>c-96</th>\n",
       "      <th>c-97</th>\n",
       "      <th>c-98</th>\n",
       "      <th>c-99</th>\n",
       "    </tr>\n",
       "  </thead>\n",
       "  <tbody>\n",
       "    <tr>\n",
       "      <th>0</th>\n",
       "      <td>id_000644bb2</td>\n",
       "      <td>com_droga</td>\n",
       "      <td>24</td>\n",
       "      <td>D1</td>\n",
       "      <td>b68db1d53</td>\n",
       "      <td>1.0620</td>\n",
       "      <td>0.5577</td>\n",
       "      <td>-0.2479</td>\n",
       "      <td>-0.6208</td>\n",
       "      <td>-0.1944</td>\n",
       "      <td>...</td>\n",
       "      <td>0.2862</td>\n",
       "      <td>0.2584</td>\n",
       "      <td>0.8076</td>\n",
       "      <td>0.5523</td>\n",
       "      <td>-0.1912</td>\n",
       "      <td>0.6584</td>\n",
       "      <td>-0.3981</td>\n",
       "      <td>0.2139</td>\n",
       "      <td>0.3801</td>\n",
       "      <td>0.4176</td>\n",
       "    </tr>\n",
       "    <tr>\n",
       "      <th>1</th>\n",
       "      <td>id_000779bfc</td>\n",
       "      <td>com_droga</td>\n",
       "      <td>72</td>\n",
       "      <td>D1</td>\n",
       "      <td>df89a8e5a</td>\n",
       "      <td>0.0743</td>\n",
       "      <td>0.4087</td>\n",
       "      <td>0.2991</td>\n",
       "      <td>0.0604</td>\n",
       "      <td>1.0190</td>\n",
       "      <td>...</td>\n",
       "      <td>-0.4265</td>\n",
       "      <td>0.7543</td>\n",
       "      <td>0.4708</td>\n",
       "      <td>0.0230</td>\n",
       "      <td>0.2957</td>\n",
       "      <td>0.4899</td>\n",
       "      <td>0.1522</td>\n",
       "      <td>0.1241</td>\n",
       "      <td>0.6077</td>\n",
       "      <td>0.7371</td>\n",
       "    </tr>\n",
       "    <tr>\n",
       "      <th>2</th>\n",
       "      <td>id_000a6266a</td>\n",
       "      <td>com_droga</td>\n",
       "      <td>48</td>\n",
       "      <td>D1</td>\n",
       "      <td>18bb41b2c</td>\n",
       "      <td>0.6280</td>\n",
       "      <td>0.5817</td>\n",
       "      <td>1.5540</td>\n",
       "      <td>-0.0764</td>\n",
       "      <td>-0.0323</td>\n",
       "      <td>...</td>\n",
       "      <td>-0.7250</td>\n",
       "      <td>-0.6297</td>\n",
       "      <td>0.6103</td>\n",
       "      <td>0.0223</td>\n",
       "      <td>-1.3240</td>\n",
       "      <td>-0.3174</td>\n",
       "      <td>-0.6417</td>\n",
       "      <td>-0.2187</td>\n",
       "      <td>-1.4080</td>\n",
       "      <td>0.6931</td>\n",
       "    </tr>\n",
       "    <tr>\n",
       "      <th>6</th>\n",
       "      <td>id_001bd861f</td>\n",
       "      <td>com_droga</td>\n",
       "      <td>24</td>\n",
       "      <td>D2</td>\n",
       "      <td>746ca1f5a</td>\n",
       "      <td>2.0440</td>\n",
       "      <td>1.7000</td>\n",
       "      <td>-1.5390</td>\n",
       "      <td>5.9440</td>\n",
       "      <td>-2.1670</td>\n",
       "      <td>...</td>\n",
       "      <td>0.1855</td>\n",
       "      <td>1.1720</td>\n",
       "      <td>0.8325</td>\n",
       "      <td>0.6486</td>\n",
       "      <td>0.8090</td>\n",
       "      <td>1.5880</td>\n",
       "      <td>2.4670</td>\n",
       "      <td>0.0357</td>\n",
       "      <td>0.1351</td>\n",
       "      <td>-0.3179</td>\n",
       "    </tr>\n",
       "    <tr>\n",
       "      <th>7</th>\n",
       "      <td>id_0020d0484</td>\n",
       "      <td>com_droga</td>\n",
       "      <td>48</td>\n",
       "      <td>D1</td>\n",
       "      <td>8b87a7a83</td>\n",
       "      <td>0.2711</td>\n",
       "      <td>0.5133</td>\n",
       "      <td>-0.1327</td>\n",
       "      <td>2.5950</td>\n",
       "      <td>0.6980</td>\n",
       "      <td>...</td>\n",
       "      <td>0.3230</td>\n",
       "      <td>-0.4140</td>\n",
       "      <td>0.2532</td>\n",
       "      <td>0.0513</td>\n",
       "      <td>0.8600</td>\n",
       "      <td>1.4250</td>\n",
       "      <td>0.6633</td>\n",
       "      <td>0.4562</td>\n",
       "      <td>-0.9622</td>\n",
       "      <td>0.0260</td>\n",
       "    </tr>\n",
       "  </tbody>\n",
       "</table>\n",
       "<p>5 rows × 877 columns</p>\n",
       "</div>"
      ],
      "text/plain": [
       "             id tratamento  tempo dose      droga     g-0     g-1     g-2  \\\n",
       "0  id_000644bb2  com_droga     24   D1  b68db1d53  1.0620  0.5577 -0.2479   \n",
       "1  id_000779bfc  com_droga     72   D1  df89a8e5a  0.0743  0.4087  0.2991   \n",
       "2  id_000a6266a  com_droga     48   D1  18bb41b2c  0.6280  0.5817  1.5540   \n",
       "6  id_001bd861f  com_droga     24   D2  746ca1f5a  2.0440  1.7000 -1.5390   \n",
       "7  id_0020d0484  com_droga     48   D1  8b87a7a83  0.2711  0.5133 -0.1327   \n",
       "\n",
       "      g-3     g-4  ...    c-90    c-91    c-92    c-93    c-94    c-95  \\\n",
       "0 -0.6208 -0.1944  ...  0.2862  0.2584  0.8076  0.5523 -0.1912  0.6584   \n",
       "1  0.0604  1.0190  ... -0.4265  0.7543  0.4708  0.0230  0.2957  0.4899   \n",
       "2 -0.0764 -0.0323  ... -0.7250 -0.6297  0.6103  0.0223 -1.3240 -0.3174   \n",
       "6  5.9440 -2.1670  ...  0.1855  1.1720  0.8325  0.6486  0.8090  1.5880   \n",
       "7  2.5950  0.6980  ...  0.3230 -0.4140  0.2532  0.0513  0.8600  1.4250   \n",
       "\n",
       "     c-96    c-97    c-98    c-99  \n",
       "0 -0.3981  0.2139  0.3801  0.4176  \n",
       "1  0.1522  0.1241  0.6077  0.7371  \n",
       "2 -0.6417 -0.2187 -1.4080  0.6931  \n",
       "6  2.4670  0.0357  0.1351 -0.3179  \n",
       "7  0.6633  0.4562 -0.9622  0.0260  \n",
       "\n",
       "[5 rows x 877 columns]"
      ]
     },
     "execution_count": 17,
     "metadata": {},
     "output_type": "execute_result"
    }
   ],
   "source": [
    "dados_filtrados = dados[dados['g-0'] > 0]\n",
    "dados_filtrados.head()"
   ]
  },
  {
   "cell_type": "markdown",
   "metadata": {
    "id": "87yE0HvTNY6u"
   },
   "source": [
    "#Aula 02"
   ]
  },
  {
   "cell_type": "markdown",
   "metadata": {
    "id": "xFXfW7vFvfK-"
   },
   "source": [
    "Olá!\n",
    "\n",
    "Seja bem vindo e bem vinda a aula 02!\n",
    "\n",
    "Na aula 01, nós começamos a explorar um conjunto de dados relacionados à industria farmacêutica. Para isso nós utilizamos uma biblioteca muito conhecida no mundo de DataScience: o Pandas.\n",
    "\n",
    "Nós utilizamos o Pandas para abrir o dataset, que estava no formato CSV, e para gerar um dataframe, uma tabela, para então começarmos a analisar e entender o que significava cada coluna. Com a ajuda da Vanessa, especialista na área, identificamos que temos colunas que nos remetem a dados que estão sob tratamento(droga) e com controle. Além disso, temos também diversas colunas que remetem aos genes.\n",
    "\n",
    "Começamos nossa análise olhando para cada coluna de forma separada e também geramos gráficos, para auxiliar nossa análise.\n",
    "\n",
    "E você? Como se saiu na resolução dos desafios?\n",
    "\n",
    "Agora, vamos mergulhar juntos na aula 02!"
   ]
  },
  {
   "cell_type": "code",
   "execution_count": 18,
   "metadata": {
    "colab": {
     "base_uri": "https://localhost:8080/",
     "height": 422
    },
    "executionInfo": {
     "elapsed": 11422,
     "status": "ok",
     "timestamp": 1618419301954,
     "user": {
      "displayName": "alura cursos",
      "photoUrl": "",
      "userId": "17957571670599323429"
     },
     "user_tz": 180
    },
    "id": "hB3O-zZW9ZYw",
    "outputId": "4a6f56d0-7973-4a4c-b919-bcae188e4727"
   },
   "outputs": [
    {
     "data": {
      "text/html": [
       "<div>\n",
       "<style scoped>\n",
       "    .dataframe tbody tr th:only-of-type {\n",
       "        vertical-align: middle;\n",
       "    }\n",
       "\n",
       "    .dataframe tbody tr th {\n",
       "        vertical-align: top;\n",
       "    }\n",
       "\n",
       "    .dataframe thead th {\n",
       "        text-align: right;\n",
       "    }\n",
       "</style>\n",
       "<table border=\"1\" class=\"dataframe\">\n",
       "  <thead>\n",
       "    <tr style=\"text-align: right;\">\n",
       "      <th></th>\n",
       "      <th>id</th>\n",
       "      <th>tratamento</th>\n",
       "      <th>tempo</th>\n",
       "      <th>dose</th>\n",
       "      <th>droga</th>\n",
       "      <th>g-0</th>\n",
       "      <th>g-1</th>\n",
       "      <th>g-2</th>\n",
       "      <th>g-3</th>\n",
       "      <th>g-4</th>\n",
       "      <th>...</th>\n",
       "      <th>c-90</th>\n",
       "      <th>c-91</th>\n",
       "      <th>c-92</th>\n",
       "      <th>c-93</th>\n",
       "      <th>c-94</th>\n",
       "      <th>c-95</th>\n",
       "      <th>c-96</th>\n",
       "      <th>c-97</th>\n",
       "      <th>c-98</th>\n",
       "      <th>c-99</th>\n",
       "    </tr>\n",
       "  </thead>\n",
       "  <tbody>\n",
       "    <tr>\n",
       "      <th>0</th>\n",
       "      <td>id_000644bb2</td>\n",
       "      <td>com_droga</td>\n",
       "      <td>24</td>\n",
       "      <td>D1</td>\n",
       "      <td>b68db1d53</td>\n",
       "      <td>1.0620</td>\n",
       "      <td>0.5577</td>\n",
       "      <td>-0.2479</td>\n",
       "      <td>-0.6208</td>\n",
       "      <td>-0.1944</td>\n",
       "      <td>...</td>\n",
       "      <td>0.2862</td>\n",
       "      <td>0.2584</td>\n",
       "      <td>0.8076</td>\n",
       "      <td>0.5523</td>\n",
       "      <td>-0.1912</td>\n",
       "      <td>0.6584</td>\n",
       "      <td>-0.3981</td>\n",
       "      <td>0.2139</td>\n",
       "      <td>0.3801</td>\n",
       "      <td>0.4176</td>\n",
       "    </tr>\n",
       "    <tr>\n",
       "      <th>1</th>\n",
       "      <td>id_000779bfc</td>\n",
       "      <td>com_droga</td>\n",
       "      <td>72</td>\n",
       "      <td>D1</td>\n",
       "      <td>df89a8e5a</td>\n",
       "      <td>0.0743</td>\n",
       "      <td>0.4087</td>\n",
       "      <td>0.2991</td>\n",
       "      <td>0.0604</td>\n",
       "      <td>1.0190</td>\n",
       "      <td>...</td>\n",
       "      <td>-0.4265</td>\n",
       "      <td>0.7543</td>\n",
       "      <td>0.4708</td>\n",
       "      <td>0.0230</td>\n",
       "      <td>0.2957</td>\n",
       "      <td>0.4899</td>\n",
       "      <td>0.1522</td>\n",
       "      <td>0.1241</td>\n",
       "      <td>0.6077</td>\n",
       "      <td>0.7371</td>\n",
       "    </tr>\n",
       "    <tr>\n",
       "      <th>2</th>\n",
       "      <td>id_000a6266a</td>\n",
       "      <td>com_droga</td>\n",
       "      <td>48</td>\n",
       "      <td>D1</td>\n",
       "      <td>18bb41b2c</td>\n",
       "      <td>0.6280</td>\n",
       "      <td>0.5817</td>\n",
       "      <td>1.5540</td>\n",
       "      <td>-0.0764</td>\n",
       "      <td>-0.0323</td>\n",
       "      <td>...</td>\n",
       "      <td>-0.7250</td>\n",
       "      <td>-0.6297</td>\n",
       "      <td>0.6103</td>\n",
       "      <td>0.0223</td>\n",
       "      <td>-1.3240</td>\n",
       "      <td>-0.3174</td>\n",
       "      <td>-0.6417</td>\n",
       "      <td>-0.2187</td>\n",
       "      <td>-1.4080</td>\n",
       "      <td>0.6931</td>\n",
       "    </tr>\n",
       "    <tr>\n",
       "      <th>3</th>\n",
       "      <td>id_0015fd391</td>\n",
       "      <td>com_droga</td>\n",
       "      <td>48</td>\n",
       "      <td>D1</td>\n",
       "      <td>8c7f86626</td>\n",
       "      <td>-0.5138</td>\n",
       "      <td>-0.2491</td>\n",
       "      <td>-0.2656</td>\n",
       "      <td>0.5288</td>\n",
       "      <td>4.0620</td>\n",
       "      <td>...</td>\n",
       "      <td>-2.0990</td>\n",
       "      <td>-0.6441</td>\n",
       "      <td>-5.6300</td>\n",
       "      <td>-1.3780</td>\n",
       "      <td>-0.8632</td>\n",
       "      <td>-1.2880</td>\n",
       "      <td>-1.6210</td>\n",
       "      <td>-0.8784</td>\n",
       "      <td>-0.3876</td>\n",
       "      <td>-0.8154</td>\n",
       "    </tr>\n",
       "    <tr>\n",
       "      <th>4</th>\n",
       "      <td>id_001626bd3</td>\n",
       "      <td>com_droga</td>\n",
       "      <td>72</td>\n",
       "      <td>D2</td>\n",
       "      <td>7cbed3131</td>\n",
       "      <td>-0.3254</td>\n",
       "      <td>-0.4009</td>\n",
       "      <td>0.9700</td>\n",
       "      <td>0.6919</td>\n",
       "      <td>1.4180</td>\n",
       "      <td>...</td>\n",
       "      <td>0.0042</td>\n",
       "      <td>0.0048</td>\n",
       "      <td>0.6670</td>\n",
       "      <td>1.0690</td>\n",
       "      <td>0.5523</td>\n",
       "      <td>-0.3031</td>\n",
       "      <td>0.1094</td>\n",
       "      <td>0.2885</td>\n",
       "      <td>-0.3786</td>\n",
       "      <td>0.7125</td>\n",
       "    </tr>\n",
       "    <tr>\n",
       "      <th>...</th>\n",
       "      <td>...</td>\n",
       "      <td>...</td>\n",
       "      <td>...</td>\n",
       "      <td>...</td>\n",
       "      <td>...</td>\n",
       "      <td>...</td>\n",
       "      <td>...</td>\n",
       "      <td>...</td>\n",
       "      <td>...</td>\n",
       "      <td>...</td>\n",
       "      <td>...</td>\n",
       "      <td>...</td>\n",
       "      <td>...</td>\n",
       "      <td>...</td>\n",
       "      <td>...</td>\n",
       "      <td>...</td>\n",
       "      <td>...</td>\n",
       "      <td>...</td>\n",
       "      <td>...</td>\n",
       "      <td>...</td>\n",
       "      <td>...</td>\n",
       "    </tr>\n",
       "    <tr>\n",
       "      <th>23809</th>\n",
       "      <td>id_fffb1ceed</td>\n",
       "      <td>com_droga</td>\n",
       "      <td>24</td>\n",
       "      <td>D2</td>\n",
       "      <td>df1d0a5a1</td>\n",
       "      <td>0.1394</td>\n",
       "      <td>-0.0636</td>\n",
       "      <td>-0.1112</td>\n",
       "      <td>-0.5080</td>\n",
       "      <td>-0.4713</td>\n",
       "      <td>...</td>\n",
       "      <td>0.1969</td>\n",
       "      <td>0.0262</td>\n",
       "      <td>-0.8121</td>\n",
       "      <td>0.3434</td>\n",
       "      <td>0.5372</td>\n",
       "      <td>-0.3246</td>\n",
       "      <td>0.0631</td>\n",
       "      <td>0.9171</td>\n",
       "      <td>0.5258</td>\n",
       "      <td>0.4680</td>\n",
       "    </tr>\n",
       "    <tr>\n",
       "      <th>23810</th>\n",
       "      <td>id_fffb70c0c</td>\n",
       "      <td>com_droga</td>\n",
       "      <td>24</td>\n",
       "      <td>D2</td>\n",
       "      <td>ecf3b6b74</td>\n",
       "      <td>-1.3260</td>\n",
       "      <td>0.3478</td>\n",
       "      <td>-0.3743</td>\n",
       "      <td>0.9905</td>\n",
       "      <td>-0.7178</td>\n",
       "      <td>...</td>\n",
       "      <td>0.4286</td>\n",
       "      <td>0.4426</td>\n",
       "      <td>0.0423</td>\n",
       "      <td>-0.3195</td>\n",
       "      <td>-0.8086</td>\n",
       "      <td>-0.9798</td>\n",
       "      <td>-0.2084</td>\n",
       "      <td>-0.1224</td>\n",
       "      <td>-0.2715</td>\n",
       "      <td>0.3689</td>\n",
       "    </tr>\n",
       "    <tr>\n",
       "      <th>23811</th>\n",
       "      <td>id_fffc1c3f4</td>\n",
       "      <td>com_controle</td>\n",
       "      <td>48</td>\n",
       "      <td>D2</td>\n",
       "      <td>cacb2b860</td>\n",
       "      <td>0.3942</td>\n",
       "      <td>0.3756</td>\n",
       "      <td>0.3109</td>\n",
       "      <td>-0.7389</td>\n",
       "      <td>0.5505</td>\n",
       "      <td>...</td>\n",
       "      <td>0.5409</td>\n",
       "      <td>0.3755</td>\n",
       "      <td>0.7343</td>\n",
       "      <td>0.2807</td>\n",
       "      <td>0.4116</td>\n",
       "      <td>0.6422</td>\n",
       "      <td>0.2256</td>\n",
       "      <td>0.7592</td>\n",
       "      <td>0.6656</td>\n",
       "      <td>0.3808</td>\n",
       "    </tr>\n",
       "    <tr>\n",
       "      <th>23812</th>\n",
       "      <td>id_fffcb9e7c</td>\n",
       "      <td>com_droga</td>\n",
       "      <td>24</td>\n",
       "      <td>D1</td>\n",
       "      <td>8b87a7a83</td>\n",
       "      <td>0.6660</td>\n",
       "      <td>0.2324</td>\n",
       "      <td>0.4392</td>\n",
       "      <td>0.2044</td>\n",
       "      <td>0.8531</td>\n",
       "      <td>...</td>\n",
       "      <td>-0.1105</td>\n",
       "      <td>0.4258</td>\n",
       "      <td>-0.2012</td>\n",
       "      <td>0.1506</td>\n",
       "      <td>1.5230</td>\n",
       "      <td>0.7101</td>\n",
       "      <td>0.1732</td>\n",
       "      <td>0.7015</td>\n",
       "      <td>-0.6290</td>\n",
       "      <td>0.0740</td>\n",
       "    </tr>\n",
       "    <tr>\n",
       "      <th>23813</th>\n",
       "      <td>id_ffffdd77b</td>\n",
       "      <td>com_droga</td>\n",
       "      <td>72</td>\n",
       "      <td>D1</td>\n",
       "      <td>972f41291</td>\n",
       "      <td>-0.8598</td>\n",
       "      <td>1.0240</td>\n",
       "      <td>-0.1361</td>\n",
       "      <td>0.7952</td>\n",
       "      <td>-0.3611</td>\n",
       "      <td>...</td>\n",
       "      <td>-3.3890</td>\n",
       "      <td>-1.7450</td>\n",
       "      <td>-6.6300</td>\n",
       "      <td>-4.0950</td>\n",
       "      <td>-7.3860</td>\n",
       "      <td>-1.4160</td>\n",
       "      <td>-3.5770</td>\n",
       "      <td>-0.4775</td>\n",
       "      <td>-2.1500</td>\n",
       "      <td>-4.2520</td>\n",
       "    </tr>\n",
       "  </tbody>\n",
       "</table>\n",
       "<p>23814 rows × 877 columns</p>\n",
       "</div>"
      ],
      "text/plain": [
       "                 id    tratamento  tempo dose      droga     g-0     g-1  \\\n",
       "0      id_000644bb2     com_droga     24   D1  b68db1d53  1.0620  0.5577   \n",
       "1      id_000779bfc     com_droga     72   D1  df89a8e5a  0.0743  0.4087   \n",
       "2      id_000a6266a     com_droga     48   D1  18bb41b2c  0.6280  0.5817   \n",
       "3      id_0015fd391     com_droga     48   D1  8c7f86626 -0.5138 -0.2491   \n",
       "4      id_001626bd3     com_droga     72   D2  7cbed3131 -0.3254 -0.4009   \n",
       "...             ...           ...    ...  ...        ...     ...     ...   \n",
       "23809  id_fffb1ceed     com_droga     24   D2  df1d0a5a1  0.1394 -0.0636   \n",
       "23810  id_fffb70c0c     com_droga     24   D2  ecf3b6b74 -1.3260  0.3478   \n",
       "23811  id_fffc1c3f4  com_controle     48   D2  cacb2b860  0.3942  0.3756   \n",
       "23812  id_fffcb9e7c     com_droga     24   D1  8b87a7a83  0.6660  0.2324   \n",
       "23813  id_ffffdd77b     com_droga     72   D1  972f41291 -0.8598  1.0240   \n",
       "\n",
       "          g-2     g-3     g-4  ...    c-90    c-91    c-92    c-93    c-94  \\\n",
       "0     -0.2479 -0.6208 -0.1944  ...  0.2862  0.2584  0.8076  0.5523 -0.1912   \n",
       "1      0.2991  0.0604  1.0190  ... -0.4265  0.7543  0.4708  0.0230  0.2957   \n",
       "2      1.5540 -0.0764 -0.0323  ... -0.7250 -0.6297  0.6103  0.0223 -1.3240   \n",
       "3     -0.2656  0.5288  4.0620  ... -2.0990 -0.6441 -5.6300 -1.3780 -0.8632   \n",
       "4      0.9700  0.6919  1.4180  ...  0.0042  0.0048  0.6670  1.0690  0.5523   \n",
       "...       ...     ...     ...  ...     ...     ...     ...     ...     ...   \n",
       "23809 -0.1112 -0.5080 -0.4713  ...  0.1969  0.0262 -0.8121  0.3434  0.5372   \n",
       "23810 -0.3743  0.9905 -0.7178  ...  0.4286  0.4426  0.0423 -0.3195 -0.8086   \n",
       "23811  0.3109 -0.7389  0.5505  ...  0.5409  0.3755  0.7343  0.2807  0.4116   \n",
       "23812  0.4392  0.2044  0.8531  ... -0.1105  0.4258 -0.2012  0.1506  1.5230   \n",
       "23813 -0.1361  0.7952 -0.3611  ... -3.3890 -1.7450 -6.6300 -4.0950 -7.3860   \n",
       "\n",
       "         c-95    c-96    c-97    c-98    c-99  \n",
       "0      0.6584 -0.3981  0.2139  0.3801  0.4176  \n",
       "1      0.4899  0.1522  0.1241  0.6077  0.7371  \n",
       "2     -0.3174 -0.6417 -0.2187 -1.4080  0.6931  \n",
       "3     -1.2880 -1.6210 -0.8784 -0.3876 -0.8154  \n",
       "4     -0.3031  0.1094  0.2885 -0.3786  0.7125  \n",
       "...       ...     ...     ...     ...     ...  \n",
       "23809 -0.3246  0.0631  0.9171  0.5258  0.4680  \n",
       "23810 -0.9798 -0.2084 -0.1224 -0.2715  0.3689  \n",
       "23811  0.6422  0.2256  0.7592  0.6656  0.3808  \n",
       "23812  0.7101  0.1732  0.7015 -0.6290  0.0740  \n",
       "23813 -1.4160 -3.5770 -0.4775 -2.1500 -4.2520  \n",
       "\n",
       "[23814 rows x 877 columns]"
      ]
     },
     "execution_count": 18,
     "metadata": {},
     "output_type": "execute_result"
    }
   ],
   "source": [
    "dados"
   ]
  },
  {
   "cell_type": "markdown",
   "metadata": {
    "id": "zGB4Kq8JvmZ5"
   },
   "source": [
    "A base de dados que usamos até o momento tem uma variável chamada ```composto```mas entendemos, com a ajuda da Vanessa, que essa não é a melhor nomenclatura para representa-la. \n",
    "Por isso, vamos usar a função ```map``` da biblioteca Pandas para renomear essa coluna.\n",
    "É importante destacar que passamos o parâmetro ```inplace = True```, esse parâmetro faz com que os dados sejam modificados no local e o dataframe será atualizado. \n",
    "Caso esse parâmetro não seja declarado, o default é ```inplace = False``` e o retorno será uma cópia do objeto e caso você queira, precisa salva-lo com um outro nome."
   ]
  },
  {
   "cell_type": "code",
   "execution_count": 19,
   "metadata": {
    "id": "CFse2h0Vcrp4"
   },
   "outputs": [],
   "source": [
    "mapa = {'droga': 'composto'}\n",
    "dados.rename(columns=mapa, inplace=True)"
   ]
  },
  {
   "cell_type": "markdown",
   "metadata": {
    "id": "lq5EDpC4w_rS"
   },
   "source": [
    "Aqui, estamos usando a função ```head``` para apresentar as 5 primeiras linhas da base de dados e assim, podemos conferir se a renomeação aconteceu da maneira que estavámos esperando."
   ]
  },
  {
   "cell_type": "code",
   "execution_count": 20,
   "metadata": {
    "colab": {
     "base_uri": "https://localhost:8080/",
     "height": 244
    },
    "executionInfo": {
     "elapsed": 1250,
     "status": "ok",
     "timestamp": 1618421813672,
     "user": {
      "displayName": "alura cursos",
      "photoUrl": "",
      "userId": "17957571670599323429"
     },
     "user_tz": 180
    },
    "id": "VX73K_tLcoQg",
    "outputId": "30283b56-89b7-4b75-bdcf-42910c12040d"
   },
   "outputs": [
    {
     "data": {
      "text/html": [
       "<div>\n",
       "<style scoped>\n",
       "    .dataframe tbody tr th:only-of-type {\n",
       "        vertical-align: middle;\n",
       "    }\n",
       "\n",
       "    .dataframe tbody tr th {\n",
       "        vertical-align: top;\n",
       "    }\n",
       "\n",
       "    .dataframe thead th {\n",
       "        text-align: right;\n",
       "    }\n",
       "</style>\n",
       "<table border=\"1\" class=\"dataframe\">\n",
       "  <thead>\n",
       "    <tr style=\"text-align: right;\">\n",
       "      <th></th>\n",
       "      <th>id</th>\n",
       "      <th>tratamento</th>\n",
       "      <th>tempo</th>\n",
       "      <th>dose</th>\n",
       "      <th>composto</th>\n",
       "      <th>g-0</th>\n",
       "      <th>g-1</th>\n",
       "      <th>g-2</th>\n",
       "      <th>g-3</th>\n",
       "      <th>g-4</th>\n",
       "      <th>...</th>\n",
       "      <th>c-90</th>\n",
       "      <th>c-91</th>\n",
       "      <th>c-92</th>\n",
       "      <th>c-93</th>\n",
       "      <th>c-94</th>\n",
       "      <th>c-95</th>\n",
       "      <th>c-96</th>\n",
       "      <th>c-97</th>\n",
       "      <th>c-98</th>\n",
       "      <th>c-99</th>\n",
       "    </tr>\n",
       "  </thead>\n",
       "  <tbody>\n",
       "    <tr>\n",
       "      <th>0</th>\n",
       "      <td>id_000644bb2</td>\n",
       "      <td>com_droga</td>\n",
       "      <td>24</td>\n",
       "      <td>D1</td>\n",
       "      <td>b68db1d53</td>\n",
       "      <td>1.0620</td>\n",
       "      <td>0.5577</td>\n",
       "      <td>-0.2479</td>\n",
       "      <td>-0.6208</td>\n",
       "      <td>-0.1944</td>\n",
       "      <td>...</td>\n",
       "      <td>0.2862</td>\n",
       "      <td>0.2584</td>\n",
       "      <td>0.8076</td>\n",
       "      <td>0.5523</td>\n",
       "      <td>-0.1912</td>\n",
       "      <td>0.6584</td>\n",
       "      <td>-0.3981</td>\n",
       "      <td>0.2139</td>\n",
       "      <td>0.3801</td>\n",
       "      <td>0.4176</td>\n",
       "    </tr>\n",
       "    <tr>\n",
       "      <th>1</th>\n",
       "      <td>id_000779bfc</td>\n",
       "      <td>com_droga</td>\n",
       "      <td>72</td>\n",
       "      <td>D1</td>\n",
       "      <td>df89a8e5a</td>\n",
       "      <td>0.0743</td>\n",
       "      <td>0.4087</td>\n",
       "      <td>0.2991</td>\n",
       "      <td>0.0604</td>\n",
       "      <td>1.0190</td>\n",
       "      <td>...</td>\n",
       "      <td>-0.4265</td>\n",
       "      <td>0.7543</td>\n",
       "      <td>0.4708</td>\n",
       "      <td>0.0230</td>\n",
       "      <td>0.2957</td>\n",
       "      <td>0.4899</td>\n",
       "      <td>0.1522</td>\n",
       "      <td>0.1241</td>\n",
       "      <td>0.6077</td>\n",
       "      <td>0.7371</td>\n",
       "    </tr>\n",
       "    <tr>\n",
       "      <th>2</th>\n",
       "      <td>id_000a6266a</td>\n",
       "      <td>com_droga</td>\n",
       "      <td>48</td>\n",
       "      <td>D1</td>\n",
       "      <td>18bb41b2c</td>\n",
       "      <td>0.6280</td>\n",
       "      <td>0.5817</td>\n",
       "      <td>1.5540</td>\n",
       "      <td>-0.0764</td>\n",
       "      <td>-0.0323</td>\n",
       "      <td>...</td>\n",
       "      <td>-0.7250</td>\n",
       "      <td>-0.6297</td>\n",
       "      <td>0.6103</td>\n",
       "      <td>0.0223</td>\n",
       "      <td>-1.3240</td>\n",
       "      <td>-0.3174</td>\n",
       "      <td>-0.6417</td>\n",
       "      <td>-0.2187</td>\n",
       "      <td>-1.4080</td>\n",
       "      <td>0.6931</td>\n",
       "    </tr>\n",
       "    <tr>\n",
       "      <th>3</th>\n",
       "      <td>id_0015fd391</td>\n",
       "      <td>com_droga</td>\n",
       "      <td>48</td>\n",
       "      <td>D1</td>\n",
       "      <td>8c7f86626</td>\n",
       "      <td>-0.5138</td>\n",
       "      <td>-0.2491</td>\n",
       "      <td>-0.2656</td>\n",
       "      <td>0.5288</td>\n",
       "      <td>4.0620</td>\n",
       "      <td>...</td>\n",
       "      <td>-2.0990</td>\n",
       "      <td>-0.6441</td>\n",
       "      <td>-5.6300</td>\n",
       "      <td>-1.3780</td>\n",
       "      <td>-0.8632</td>\n",
       "      <td>-1.2880</td>\n",
       "      <td>-1.6210</td>\n",
       "      <td>-0.8784</td>\n",
       "      <td>-0.3876</td>\n",
       "      <td>-0.8154</td>\n",
       "    </tr>\n",
       "    <tr>\n",
       "      <th>4</th>\n",
       "      <td>id_001626bd3</td>\n",
       "      <td>com_droga</td>\n",
       "      <td>72</td>\n",
       "      <td>D2</td>\n",
       "      <td>7cbed3131</td>\n",
       "      <td>-0.3254</td>\n",
       "      <td>-0.4009</td>\n",
       "      <td>0.9700</td>\n",
       "      <td>0.6919</td>\n",
       "      <td>1.4180</td>\n",
       "      <td>...</td>\n",
       "      <td>0.0042</td>\n",
       "      <td>0.0048</td>\n",
       "      <td>0.6670</td>\n",
       "      <td>1.0690</td>\n",
       "      <td>0.5523</td>\n",
       "      <td>-0.3031</td>\n",
       "      <td>0.1094</td>\n",
       "      <td>0.2885</td>\n",
       "      <td>-0.3786</td>\n",
       "      <td>0.7125</td>\n",
       "    </tr>\n",
       "  </tbody>\n",
       "</table>\n",
       "<p>5 rows × 877 columns</p>\n",
       "</div>"
      ],
      "text/plain": [
       "             id tratamento  tempo dose   composto     g-0     g-1     g-2  \\\n",
       "0  id_000644bb2  com_droga     24   D1  b68db1d53  1.0620  0.5577 -0.2479   \n",
       "1  id_000779bfc  com_droga     72   D1  df89a8e5a  0.0743  0.4087  0.2991   \n",
       "2  id_000a6266a  com_droga     48   D1  18bb41b2c  0.6280  0.5817  1.5540   \n",
       "3  id_0015fd391  com_droga     48   D1  8c7f86626 -0.5138 -0.2491 -0.2656   \n",
       "4  id_001626bd3  com_droga     72   D2  7cbed3131 -0.3254 -0.4009  0.9700   \n",
       "\n",
       "      g-3     g-4  ...    c-90    c-91    c-92    c-93    c-94    c-95  \\\n",
       "0 -0.6208 -0.1944  ...  0.2862  0.2584  0.8076  0.5523 -0.1912  0.6584   \n",
       "1  0.0604  1.0190  ... -0.4265  0.7543  0.4708  0.0230  0.2957  0.4899   \n",
       "2 -0.0764 -0.0323  ... -0.7250 -0.6297  0.6103  0.0223 -1.3240 -0.3174   \n",
       "3  0.5288  4.0620  ... -2.0990 -0.6441 -5.6300 -1.3780 -0.8632 -1.2880   \n",
       "4  0.6919  1.4180  ...  0.0042  0.0048  0.6670  1.0690  0.5523 -0.3031   \n",
       "\n",
       "     c-96    c-97    c-98    c-99  \n",
       "0 -0.3981  0.2139  0.3801  0.4176  \n",
       "1  0.1522  0.1241  0.6077  0.7371  \n",
       "2 -0.6417 -0.2187 -1.4080  0.6931  \n",
       "3 -1.6210 -0.8784 -0.3876 -0.8154  \n",
       "4  0.1094  0.2885 -0.3786  0.7125  \n",
       "\n",
       "[5 rows x 877 columns]"
      ]
     },
     "execution_count": 20,
     "metadata": {},
     "output_type": "execute_result"
    }
   ],
   "source": [
    "dados.head()"
   ]
  },
  {
   "cell_type": "markdown",
   "metadata": {
    "id": "i7mgnrykiMNb"
   },
   "source": [
    "Queremos melhorar a visualização do nosso histograma de compostos e, como existem mais de 3.000 variações na nossa base de dados, decidimos elencar os 5 compostos que mais aparecem.\n",
    "Para isso, vamos usar a função ```value_counts``` (função presente na biblioteca Pandas e que conta a ocorrência dos diferentes valores) e, como queremos saber somente os 5 elementos mais frequentes, também declaramos o ```index[0:5]```. Essa parte final, faz com que o ```value_counts```se atenha à contagem dos maiores valores e apresente como resultado apenas o index do  intervalo [0, 5[, ou seja, o nome dos 5 maiores valores. "
   ]
  },
  {
   "cell_type": "code",
   "execution_count": 21,
   "metadata": {
    "id": "D5hK5mcVej_G"
   },
   "outputs": [],
   "source": [
    "cod_compostos = dados['composto'].value_counts().index[0:5]"
   ]
  },
  {
   "cell_type": "markdown",
   "metadata": {
    "id": "hrOGPnbP4cE_"
   },
   "source": [
    "Na célula acima, declaramos a variável ```cod_compostos``` e definimos a função que está atrelada à ela. \n",
    "E agora, executamos a nossa nova variável para verificar o resultado."
   ]
  },
  {
   "cell_type": "code",
   "execution_count": 22,
   "metadata": {
    "colab": {
     "base_uri": "https://localhost:8080/"
    },
    "executionInfo": {
     "elapsed": 1064,
     "status": "ok",
     "timestamp": 1618422425218,
     "user": {
      "displayName": "alura cursos",
      "photoUrl": "",
      "userId": "17957571670599323429"
     },
     "user_tz": 180
    },
    "id": "LgrRw3eSfLYu",
    "outputId": "eccc06e4-1729-416b-892b-d33415b5c9ea"
   },
   "outputs": [
    {
     "data": {
      "text/plain": [
       "Index(['cacb2b860', '87d714366', '9f80f3f77', '8b87a7a83', '5628cb3ee'], dtype='object')"
      ]
     },
     "execution_count": 22,
     "metadata": {},
     "output_type": "execute_result"
    }
   ],
   "source": [
    "cod_compostos"
   ]
  },
  {
   "cell_type": "markdown",
   "metadata": {
    "id": "1JANbNGx4wQO"
   },
   "source": [
    "Exitem algumas maneiras de filtrar uma base de dados e optamos em usar a função ```query``` do Pandas e, somente a título de curiosidade, essa função é bastante análoga ao SQL (linguagem de programação para bancos de dados).\n",
    "A estrutura dela é bastante simplificada, precisamos apenas definir o dataframe, chamar a função e passar como parâmetro a condição que deve ser \n",
    "filtrada no nosso conjunto de dados.\n",
    "\n",
    "Nesta parte do projeto, queremos realizar um filtro em nossos dados, selecionando apenas as linhas nas quais o composto esteja dentro da nossa lista ```cod_composto``` (lista que representa os 5 compostos mais testados no experimento) e vamos utilizar o método ```query``` para resolver este problema. \n",
    "\n",
    "Como parâmetro da função, passamos uma string contendo a lógica para realização da seleção dos dados. O que queremos é o seguinte: o ```query```precisa retornar para nós todas as linhas contendo os 5 compostos mais utilizados. Logo, a string necessária para isso é: ```composto in @cod_compostos```. \n",
    "\n",
    "Usamos ```composto``` porque essa é a coluna a ser verificada no dataframe e ```cod_compostos``` por ser a lista com os top 5 compostos, o detalhe aqui é que o ```@``` é necessário para informar o ```query``` que ```cod_composto``` é uma variável que já foi definida fora da função."
   ]
  },
  {
   "cell_type": "code",
   "execution_count": 23,
   "metadata": {
    "colab": {
     "base_uri": "https://localhost:8080/",
     "height": 422
    },
    "executionInfo": {
     "elapsed": 1135,
     "status": "ok",
     "timestamp": 1618422566959,
     "user": {
      "displayName": "alura cursos",
      "photoUrl": "",
      "userId": "17957571670599323429"
     },
     "user_tz": 180
    },
    "id": "_GlSwTMGfpFs",
    "outputId": "1ecf8d7f-37d6-404e-f050-83968b1fefb3"
   },
   "outputs": [
    {
     "data": {
      "text/html": [
       "<div>\n",
       "<style scoped>\n",
       "    .dataframe tbody tr th:only-of-type {\n",
       "        vertical-align: middle;\n",
       "    }\n",
       "\n",
       "    .dataframe tbody tr th {\n",
       "        vertical-align: top;\n",
       "    }\n",
       "\n",
       "    .dataframe thead th {\n",
       "        text-align: right;\n",
       "    }\n",
       "</style>\n",
       "<table border=\"1\" class=\"dataframe\">\n",
       "  <thead>\n",
       "    <tr style=\"text-align: right;\">\n",
       "      <th></th>\n",
       "      <th>id</th>\n",
       "      <th>tratamento</th>\n",
       "      <th>tempo</th>\n",
       "      <th>dose</th>\n",
       "      <th>composto</th>\n",
       "      <th>g-0</th>\n",
       "      <th>g-1</th>\n",
       "      <th>g-2</th>\n",
       "      <th>g-3</th>\n",
       "      <th>g-4</th>\n",
       "      <th>...</th>\n",
       "      <th>c-90</th>\n",
       "      <th>c-91</th>\n",
       "      <th>c-92</th>\n",
       "      <th>c-93</th>\n",
       "      <th>c-94</th>\n",
       "      <th>c-95</th>\n",
       "      <th>c-96</th>\n",
       "      <th>c-97</th>\n",
       "      <th>c-98</th>\n",
       "      <th>c-99</th>\n",
       "    </tr>\n",
       "  </thead>\n",
       "  <tbody>\n",
       "    <tr>\n",
       "      <th>7</th>\n",
       "      <td>id_0020d0484</td>\n",
       "      <td>com_droga</td>\n",
       "      <td>48</td>\n",
       "      <td>D1</td>\n",
       "      <td>8b87a7a83</td>\n",
       "      <td>0.2711</td>\n",
       "      <td>0.5133</td>\n",
       "      <td>-0.1327</td>\n",
       "      <td>2.5950</td>\n",
       "      <td>0.6980</td>\n",
       "      <td>...</td>\n",
       "      <td>0.3230</td>\n",
       "      <td>-0.4140</td>\n",
       "      <td>0.2532</td>\n",
       "      <td>0.0513</td>\n",
       "      <td>0.8600</td>\n",
       "      <td>1.4250</td>\n",
       "      <td>0.6633</td>\n",
       "      <td>0.4562</td>\n",
       "      <td>-0.9622</td>\n",
       "      <td>0.0260</td>\n",
       "    </tr>\n",
       "    <tr>\n",
       "      <th>16</th>\n",
       "      <td>id_002fb9c19</td>\n",
       "      <td>com_droga</td>\n",
       "      <td>48</td>\n",
       "      <td>D1</td>\n",
       "      <td>87d714366</td>\n",
       "      <td>8.7380</td>\n",
       "      <td>0.1914</td>\n",
       "      <td>2.4380</td>\n",
       "      <td>-0.2930</td>\n",
       "      <td>3.2010</td>\n",
       "      <td>...</td>\n",
       "      <td>-9.9840</td>\n",
       "      <td>-9.9840</td>\n",
       "      <td>-9.9840</td>\n",
       "      <td>-9.9840</td>\n",
       "      <td>-9.9840</td>\n",
       "      <td>-9.9840</td>\n",
       "      <td>-9.9840</td>\n",
       "      <td>-9.9840</td>\n",
       "      <td>-9.9840</td>\n",
       "      <td>-6.7840</td>\n",
       "    </tr>\n",
       "    <tr>\n",
       "      <th>25</th>\n",
       "      <td>id_0054388ec</td>\n",
       "      <td>com_controle</td>\n",
       "      <td>48</td>\n",
       "      <td>D1</td>\n",
       "      <td>cacb2b860</td>\n",
       "      <td>-0.6696</td>\n",
       "      <td>-0.2718</td>\n",
       "      <td>-1.2230</td>\n",
       "      <td>-0.6226</td>\n",
       "      <td>-0.7220</td>\n",
       "      <td>...</td>\n",
       "      <td>0.6171</td>\n",
       "      <td>0.6405</td>\n",
       "      <td>0.5429</td>\n",
       "      <td>0.3562</td>\n",
       "      <td>1.3290</td>\n",
       "      <td>0.5573</td>\n",
       "      <td>0.8837</td>\n",
       "      <td>0.5534</td>\n",
       "      <td>0.8976</td>\n",
       "      <td>1.0050</td>\n",
       "    </tr>\n",
       "    <tr>\n",
       "      <th>38</th>\n",
       "      <td>id_0079af0fb</td>\n",
       "      <td>com_controle</td>\n",
       "      <td>24</td>\n",
       "      <td>D1</td>\n",
       "      <td>cacb2b860</td>\n",
       "      <td>-0.1636</td>\n",
       "      <td>-1.8230</td>\n",
       "      <td>-0.5211</td>\n",
       "      <td>0.3054</td>\n",
       "      <td>-1.1280</td>\n",
       "      <td>...</td>\n",
       "      <td>-0.3880</td>\n",
       "      <td>-0.6828</td>\n",
       "      <td>-0.6594</td>\n",
       "      <td>-0.2043</td>\n",
       "      <td>0.3571</td>\n",
       "      <td>-0.1319</td>\n",
       "      <td>0.2187</td>\n",
       "      <td>0.0737</td>\n",
       "      <td>0.6498</td>\n",
       "      <td>-1.4820</td>\n",
       "    </tr>\n",
       "    <tr>\n",
       "      <th>40</th>\n",
       "      <td>id_007bfbb91</td>\n",
       "      <td>com_controle</td>\n",
       "      <td>24</td>\n",
       "      <td>D2</td>\n",
       "      <td>cacb2b860</td>\n",
       "      <td>-1.3200</td>\n",
       "      <td>-1.7340</td>\n",
       "      <td>-0.0741</td>\n",
       "      <td>1.5440</td>\n",
       "      <td>-1.8290</td>\n",
       "      <td>...</td>\n",
       "      <td>0.7412</td>\n",
       "      <td>1.0340</td>\n",
       "      <td>0.7393</td>\n",
       "      <td>1.1020</td>\n",
       "      <td>0.3786</td>\n",
       "      <td>0.2636</td>\n",
       "      <td>-0.5751</td>\n",
       "      <td>0.3362</td>\n",
       "      <td>0.8543</td>\n",
       "      <td>0.9180</td>\n",
       "    </tr>\n",
       "    <tr>\n",
       "      <th>...</th>\n",
       "      <td>...</td>\n",
       "      <td>...</td>\n",
       "      <td>...</td>\n",
       "      <td>...</td>\n",
       "      <td>...</td>\n",
       "      <td>...</td>\n",
       "      <td>...</td>\n",
       "      <td>...</td>\n",
       "      <td>...</td>\n",
       "      <td>...</td>\n",
       "      <td>...</td>\n",
       "      <td>...</td>\n",
       "      <td>...</td>\n",
       "      <td>...</td>\n",
       "      <td>...</td>\n",
       "      <td>...</td>\n",
       "      <td>...</td>\n",
       "      <td>...</td>\n",
       "      <td>...</td>\n",
       "      <td>...</td>\n",
       "      <td>...</td>\n",
       "    </tr>\n",
       "    <tr>\n",
       "      <th>23793</th>\n",
       "      <td>id_ffd26f361</td>\n",
       "      <td>com_controle</td>\n",
       "      <td>48</td>\n",
       "      <td>D2</td>\n",
       "      <td>cacb2b860</td>\n",
       "      <td>0.6008</td>\n",
       "      <td>0.2781</td>\n",
       "      <td>-0.3319</td>\n",
       "      <td>-0.8782</td>\n",
       "      <td>0.9281</td>\n",
       "      <td>...</td>\n",
       "      <td>1.2470</td>\n",
       "      <td>0.9569</td>\n",
       "      <td>-0.2065</td>\n",
       "      <td>-0.4918</td>\n",
       "      <td>0.7863</td>\n",
       "      <td>0.0504</td>\n",
       "      <td>0.8813</td>\n",
       "      <td>0.7757</td>\n",
       "      <td>-0.5272</td>\n",
       "      <td>0.7082</td>\n",
       "    </tr>\n",
       "    <tr>\n",
       "      <th>23802</th>\n",
       "      <td>id_fff3976bd</td>\n",
       "      <td>com_droga</td>\n",
       "      <td>24</td>\n",
       "      <td>D1</td>\n",
       "      <td>87d714366</td>\n",
       "      <td>3.2890</td>\n",
       "      <td>2.1270</td>\n",
       "      <td>0.9770</td>\n",
       "      <td>2.0490</td>\n",
       "      <td>2.3170</td>\n",
       "      <td>...</td>\n",
       "      <td>-8.6300</td>\n",
       "      <td>-8.1490</td>\n",
       "      <td>-6.2900</td>\n",
       "      <td>-8.0970</td>\n",
       "      <td>-8.7330</td>\n",
       "      <td>-2.3780</td>\n",
       "      <td>-8.4480</td>\n",
       "      <td>-4.4550</td>\n",
       "      <td>-5.7930</td>\n",
       "      <td>-3.7000</td>\n",
       "    </tr>\n",
       "    <tr>\n",
       "      <th>23805</th>\n",
       "      <td>id_fff6df1c5</td>\n",
       "      <td>com_droga</td>\n",
       "      <td>48</td>\n",
       "      <td>D2</td>\n",
       "      <td>5628cb3ee</td>\n",
       "      <td>1.7380</td>\n",
       "      <td>-1.2900</td>\n",
       "      <td>-0.4533</td>\n",
       "      <td>-1.1640</td>\n",
       "      <td>-0.4841</td>\n",
       "      <td>...</td>\n",
       "      <td>0.2865</td>\n",
       "      <td>0.5974</td>\n",
       "      <td>-0.2727</td>\n",
       "      <td>0.1188</td>\n",
       "      <td>1.0770</td>\n",
       "      <td>-1.0250</td>\n",
       "      <td>0.1516</td>\n",
       "      <td>0.4503</td>\n",
       "      <td>-0.6312</td>\n",
       "      <td>-0.8302</td>\n",
       "    </tr>\n",
       "    <tr>\n",
       "      <th>23811</th>\n",
       "      <td>id_fffc1c3f4</td>\n",
       "      <td>com_controle</td>\n",
       "      <td>48</td>\n",
       "      <td>D2</td>\n",
       "      <td>cacb2b860</td>\n",
       "      <td>0.3942</td>\n",
       "      <td>0.3756</td>\n",
       "      <td>0.3109</td>\n",
       "      <td>-0.7389</td>\n",
       "      <td>0.5505</td>\n",
       "      <td>...</td>\n",
       "      <td>0.5409</td>\n",
       "      <td>0.3755</td>\n",
       "      <td>0.7343</td>\n",
       "      <td>0.2807</td>\n",
       "      <td>0.4116</td>\n",
       "      <td>0.6422</td>\n",
       "      <td>0.2256</td>\n",
       "      <td>0.7592</td>\n",
       "      <td>0.6656</td>\n",
       "      <td>0.3808</td>\n",
       "    </tr>\n",
       "    <tr>\n",
       "      <th>23812</th>\n",
       "      <td>id_fffcb9e7c</td>\n",
       "      <td>com_droga</td>\n",
       "      <td>24</td>\n",
       "      <td>D1</td>\n",
       "      <td>8b87a7a83</td>\n",
       "      <td>0.6660</td>\n",
       "      <td>0.2324</td>\n",
       "      <td>0.4392</td>\n",
       "      <td>0.2044</td>\n",
       "      <td>0.8531</td>\n",
       "      <td>...</td>\n",
       "      <td>-0.1105</td>\n",
       "      <td>0.4258</td>\n",
       "      <td>-0.2012</td>\n",
       "      <td>0.1506</td>\n",
       "      <td>1.5230</td>\n",
       "      <td>0.7101</td>\n",
       "      <td>0.1732</td>\n",
       "      <td>0.7015</td>\n",
       "      <td>-0.6290</td>\n",
       "      <td>0.0740</td>\n",
       "    </tr>\n",
       "  </tbody>\n",
       "</table>\n",
       "<p>3235 rows × 877 columns</p>\n",
       "</div>"
      ],
      "text/plain": [
       "                 id    tratamento  tempo dose   composto     g-0     g-1  \\\n",
       "7      id_0020d0484     com_droga     48   D1  8b87a7a83  0.2711  0.5133   \n",
       "16     id_002fb9c19     com_droga     48   D1  87d714366  8.7380  0.1914   \n",
       "25     id_0054388ec  com_controle     48   D1  cacb2b860 -0.6696 -0.2718   \n",
       "38     id_0079af0fb  com_controle     24   D1  cacb2b860 -0.1636 -1.8230   \n",
       "40     id_007bfbb91  com_controle     24   D2  cacb2b860 -1.3200 -1.7340   \n",
       "...             ...           ...    ...  ...        ...     ...     ...   \n",
       "23793  id_ffd26f361  com_controle     48   D2  cacb2b860  0.6008  0.2781   \n",
       "23802  id_fff3976bd     com_droga     24   D1  87d714366  3.2890  2.1270   \n",
       "23805  id_fff6df1c5     com_droga     48   D2  5628cb3ee  1.7380 -1.2900   \n",
       "23811  id_fffc1c3f4  com_controle     48   D2  cacb2b860  0.3942  0.3756   \n",
       "23812  id_fffcb9e7c     com_droga     24   D1  8b87a7a83  0.6660  0.2324   \n",
       "\n",
       "          g-2     g-3     g-4  ...    c-90    c-91    c-92    c-93    c-94  \\\n",
       "7     -0.1327  2.5950  0.6980  ...  0.3230 -0.4140  0.2532  0.0513  0.8600   \n",
       "16     2.4380 -0.2930  3.2010  ... -9.9840 -9.9840 -9.9840 -9.9840 -9.9840   \n",
       "25    -1.2230 -0.6226 -0.7220  ...  0.6171  0.6405  0.5429  0.3562  1.3290   \n",
       "38    -0.5211  0.3054 -1.1280  ... -0.3880 -0.6828 -0.6594 -0.2043  0.3571   \n",
       "40    -0.0741  1.5440 -1.8290  ...  0.7412  1.0340  0.7393  1.1020  0.3786   \n",
       "...       ...     ...     ...  ...     ...     ...     ...     ...     ...   \n",
       "23793 -0.3319 -0.8782  0.9281  ...  1.2470  0.9569 -0.2065 -0.4918  0.7863   \n",
       "23802  0.9770  2.0490  2.3170  ... -8.6300 -8.1490 -6.2900 -8.0970 -8.7330   \n",
       "23805 -0.4533 -1.1640 -0.4841  ...  0.2865  0.5974 -0.2727  0.1188  1.0770   \n",
       "23811  0.3109 -0.7389  0.5505  ...  0.5409  0.3755  0.7343  0.2807  0.4116   \n",
       "23812  0.4392  0.2044  0.8531  ... -0.1105  0.4258 -0.2012  0.1506  1.5230   \n",
       "\n",
       "         c-95    c-96    c-97    c-98    c-99  \n",
       "7      1.4250  0.6633  0.4562 -0.9622  0.0260  \n",
       "16    -9.9840 -9.9840 -9.9840 -9.9840 -6.7840  \n",
       "25     0.5573  0.8837  0.5534  0.8976  1.0050  \n",
       "38    -0.1319  0.2187  0.0737  0.6498 -1.4820  \n",
       "40     0.2636 -0.5751  0.3362  0.8543  0.9180  \n",
       "...       ...     ...     ...     ...     ...  \n",
       "23793  0.0504  0.8813  0.7757 -0.5272  0.7082  \n",
       "23802 -2.3780 -8.4480 -4.4550 -5.7930 -3.7000  \n",
       "23805 -1.0250  0.1516  0.4503 -0.6312 -0.8302  \n",
       "23811  0.6422  0.2256  0.7592  0.6656  0.3808  \n",
       "23812  0.7101  0.1732  0.7015 -0.6290  0.0740  \n",
       "\n",
       "[3235 rows x 877 columns]"
      ]
     },
     "execution_count": 23,
     "metadata": {},
     "output_type": "execute_result"
    }
   ],
   "source": [
    "dados.query('composto in @cod_compostos')"
   ]
  },
  {
   "cell_type": "markdown",
   "metadata": {
    "id": "p9FQo1EuFF8M"
   },
   "source": [
    "Agora que vimos que a nossa filtragem funcionou e que temos como retorno uma base de dados com 3.235 linhas, podemos usar a função ```query```como parâmetro para o ```countplot```, o nosso gráfico de barras.\n",
    "O ```countplot``` é um gráfico pré-programado da biblioteca ```Seaborn```e, por isso, precisaremos fazer a importação padrão da mesma (```import seaborn as sns```). Adicionalmente, aqui no Google Colaboratory, para que possamos enxergar o gráfico com os padrões de configuração da biblioteca, precisamos rodar ```sns.set()```.\n",
    "Além disso, para refinar a apresentação do gráfico, podemos utilizar algumas funcionalidades da biblioteca ```Matplotlib``` (fazendo, primeiramente, sua importação - ```import matplotlib.pyplt as plt```).\n",
    "Também estamos definindo o tamanho do gráfico através da função ```figure``` e seu parâmetro ```figsize=(x, y))``` e o título através do ```set_title('Título')```.\n",
    "Como comentado na aula, usualmente, armazenamos o nosso gráfico em uma variável ```ax``` e então, definimos as demais configurações (por exemplo, ```ax.set_title('Título')```.\n",
    "E, finalmente, para visualizar o gráfico de barras, usamos o ```plt.show()```."
   ]
  },
  {
   "cell_type": "code",
   "execution_count": 24,
   "metadata": {
    "colab": {
     "base_uri": "https://localhost:8080/",
     "height": 410
    },
    "executionInfo": {
     "elapsed": 900,
     "status": "ok",
     "timestamp": 1618423229078,
     "user": {
      "displayName": "alura cursos",
      "photoUrl": "",
      "userId": "17957571670599323429"
     },
     "user_tz": 180
    },
    "id": "IePUr98kdgED",
    "outputId": "275476c5-25c6-4da2-da1a-00ce44f7c8e8"
   },
   "outputs": [
    {
     "data": {
      "image/png": "[encoded data removed]",
      "text/plain": [
       "<Figure size 576x432 with 1 Axes>"
      ]
     },
     "metadata": {},
     "output_type": "display_data"
    }
   ],
   "source": [
    "import seaborn as sns\n",
    "import matplotlib.pyplot as plt\n",
    "sns.set()\n",
    "plt.figure(figsize=(8, 6))\n",
    "ax = sns.countplot(x = 'composto', data=dados.query('composto in @cod_compostos'))\n",
    "ax.set_title('Top 5 compostos')\n",
    "plt.show()"
   ]
  },
  {
   "cell_type": "markdown",
   "metadata": {
    "id": "bA_RUClHM6I8"
   },
   "source": [
    "Até o momento analisamos os dados de tempo, dose, compostos e afins. Entretanto, não analisamos os dados de expressões gênicas (G's) e viabilidade celular (C's). Será que podemos criar um gráfico de barras para esses dados?\n",
    "Vamos pensar que a nossa base de dados apresenta mais de 3.000 compostos. Mas quantos desses compostos aparecem na coluna ```g-0```? \n",
    "Para responder essa questão, vamos usar a função ```unique()``` do Pandas que conta os valores únicos presentes na coluna em questão. Como resposta padrão, o retorno será uma lista com arrays (os nomes dos compostos) mas, nosso objetivo é saber o tamanho dessa lista e, por isso, usamos o ```len```, pois assim, ele contará o tamanho desta lista de arrays."
   ]
  },
  {
   "cell_type": "code",
   "execution_count": 25,
   "metadata": {
    "colab": {
     "base_uri": "https://localhost:8080/"
    },
    "executionInfo": {
     "elapsed": 1097,
     "status": "ok",
     "timestamp": 1618423666836,
     "user": {
      "displayName": "alura cursos",
      "photoUrl": "",
      "userId": "17957571670599323429"
     },
     "user_tz": 180
    },
    "id": "DkQ2wH9Gj-w7",
    "outputId": "d3e319ee-0827-4d72-abc3-340842d5cc79"
   },
   "outputs": [
    {
     "data": {
      "text/plain": [
       "14367"
      ]
     },
     "execution_count": 25,
     "metadata": {},
     "output_type": "execute_result"
    }
   ],
   "source": [
    "len(dados['g-0'].unique())"
   ]
  },
  {
   "cell_type": "markdown",
   "metadata": {
    "id": "wM4yn28tRflX"
   },
   "source": [
    "Como temos diversos compostos únicos dentro da coluna ```g-0```, não é viável que façamos o mesmo gráfico utilizado anteriormente. \n",
    "Por isso, precisamos traçar uma nova estratégia para visualizar os nossos dadose aqui, usaremos um histograma.\n",
    "O primeiro passo, é identificar qual o valor mínimo (```min()```) e o valor máximo (```max()```) para entender qual o intervalo númerico com o qual estamos trabalhando."
   ]
  },
  {
   "cell_type": "code",
   "execution_count": 26,
   "metadata": {
    "colab": {
     "base_uri": "https://localhost:8080/"
    },
    "executionInfo": {
     "elapsed": 903,
     "status": "ok",
     "timestamp": 1618423751676,
     "user": {
      "displayName": "alura cursos",
      "photoUrl": "",
      "userId": "17957571670599323429"
     },
     "user_tz": 180
    },
    "id": "mCC5DpK1kmiX",
    "outputId": "5c427ce3-194b-43f1-9433-f834315197c2"
   },
   "outputs": [
    {
     "data": {
      "text/plain": [
       "-5.513"
      ]
     },
     "execution_count": 26,
     "metadata": {},
     "output_type": "execute_result"
    }
   ],
   "source": [
    "dados['g-0'].min()"
   ]
  },
  {
   "cell_type": "code",
   "execution_count": 27,
   "metadata": {
    "colab": {
     "base_uri": "https://localhost:8080/"
    },
    "executionInfo": {
     "elapsed": 1304,
     "status": "ok",
     "timestamp": 1618423768883,
     "user": {
      "displayName": "alura cursos",
      "photoUrl": "",
      "userId": "17957571670599323429"
     },
     "user_tz": 180
    },
    "id": "qzH4Jl0OksuL",
    "outputId": "9a58bf8b-fbb7-411d-8c00-350b7f957ba5"
   },
   "outputs": [
    {
     "data": {
      "text/plain": [
       "10.0"
      ]
     },
     "execution_count": 27,
     "metadata": {},
     "output_type": "execute_result"
    }
   ],
   "source": [
    "dados['g-0'].max()"
   ]
  },
  {
   "cell_type": "markdown",
   "metadata": {
    "id": "-Tp7M_wWUCU8"
   },
   "source": [
    "Depois que reconhecemos que o nosso intervalo vai de ~5,5 a 10,0, podemos partir para o histograma e a função que usaremos para plotar é do Pandas (```dataframe['variável'].hist()```).\n",
    "Assim que rodamos essa função, percebemos que a visualização destes dados ainda não está boa pois, a divisão padrão das barras do histograma, representam intervalos muito grandes que atrapalham o entendimento dos dados.\n",
    "Por isso, acresentamos um parâmetro dentro da função ```(bins = número de quebras)``` para melhor dividir e, consequentemente visualizar os dados.\n",
    "Quando definimos os bins em 100, podemos perceber que a forma se aproxima bastante de uma curva bastante conhecida: a curva normal."
   ]
  },
  {
   "cell_type": "code",
   "execution_count": 28,
   "metadata": {
    "colab": {
     "base_uri": "https://localhost:8080/",
     "height": 285
    },
    "executionInfo": {
     "elapsed": 1493,
     "status": "ok",
     "timestamp": 1618423963001,
     "user": {
      "displayName": "alura cursos",
      "photoUrl": "",
      "userId": "17957571670599323429"
     },
     "user_tz": 180
    },
    "id": "RnjRPpubk1z0",
    "outputId": "c970fac7-ea04-443f-8f15-4efd109dae96"
   },
   "outputs": [
    {
     "data": {
      "text/plain": [
       "<AxesSubplot:>"
      ]
     },
     "execution_count": 28,
     "metadata": {},
     "output_type": "execute_result"
    },
    {
     "data": {
      "image/png": "[encoded data removed]",
      "text/plain": [
       "<Figure size 432x288 with 1 Axes>"
      ]
     },
     "metadata": {},
     "output_type": "display_data"
    }
   ],
   "source": [
    "dados['g-0'].hist(bins = 100)"
   ]
  },
  {
   "cell_type": "markdown",
   "metadata": {
    "id": "ILTZmvd2fczV"
   },
   "source": [
    "Aqui, estamos testando o mesmo histograma para outro gene, o ```g-19```. E queremos fazer uma comparação entre os gráficos e podemos fazer algumas considerações sobre ambos os gráficos.\n",
    "Percebemos, por exemplo, que a imagem seguem a mesma tendência de curva mas há um deslocamento para a direita."
   ]
  },
  {
   "cell_type": "code",
   "execution_count": 29,
   "metadata": {
    "colab": {
     "base_uri": "https://localhost:8080/",
     "height": 285
    },
    "executionInfo": {
     "elapsed": 1612,
     "status": "ok",
     "timestamp": 1618424733978,
     "user": {
      "displayName": "alura cursos",
      "photoUrl": "",
      "userId": "17957571670599323429"
     },
     "user_tz": 180
    },
    "id": "1_aedkvToYlB",
    "outputId": "b4fedc39-4e20-4bec-d593-9c371e3f67a6"
   },
   "outputs": [
    {
     "data": {
      "text/plain": [
       "<AxesSubplot:>"
      ]
     },
     "execution_count": 29,
     "metadata": {},
     "output_type": "execute_result"
    },
    {
     "data": {
      "image/png": "[encoded data removed]",
      "text/plain": [
       "<Figure size 432x288 with 1 Axes>"
      ]
     },
     "metadata": {},
     "output_type": "display_data"
    }
   ],
   "source": [
    "dados['g-19'].hist(bins = 100)"
   ]
  },
  {
   "cell_type": "markdown",
   "metadata": {
    "id": "i8HZHcicEJ0F"
   },
   "source": [
    "Como concluimos que plotar os gráficos de todos os genes é inviável, vamos analisar resumidamente algumas estatísticas sobre eles. \n",
    "Para isso, vamos usar a função ```describe``` do Pandas que já calcula e descreve algumas estatísticas importantes para o entendimento dos dados (contagem, média, desvio padrão, mínimo, alguns quartis e máximo).\n"
   ]
  },
  {
   "cell_type": "code",
   "execution_count": 30,
   "metadata": {
    "colab": {
     "base_uri": "https://localhost:8080/",
     "height": 333
    },
    "executionInfo": {
     "elapsed": 3512,
     "status": "ok",
     "timestamp": 1618425127716,
     "user": {
      "displayName": "alura cursos",
      "photoUrl": "",
      "userId": "17957571670599323429"
     },
     "user_tz": 180
    },
    "id": "Kv-2zPLBprgD",
    "outputId": "8fb3f5c8-a974-40a0-cd5c-717d27f8eff2"
   },
   "outputs": [
    {
     "data": {
      "text/html": [
       "<div>\n",
       "<style scoped>\n",
       "    .dataframe tbody tr th:only-of-type {\n",
       "        vertical-align: middle;\n",
       "    }\n",
       "\n",
       "    .dataframe tbody tr th {\n",
       "        vertical-align: top;\n",
       "    }\n",
       "\n",
       "    .dataframe thead th {\n",
       "        text-align: right;\n",
       "    }\n",
       "</style>\n",
       "<table border=\"1\" class=\"dataframe\">\n",
       "  <thead>\n",
       "    <tr style=\"text-align: right;\">\n",
       "      <th></th>\n",
       "      <th>tempo</th>\n",
       "      <th>g-0</th>\n",
       "      <th>g-1</th>\n",
       "      <th>g-2</th>\n",
       "      <th>g-3</th>\n",
       "      <th>g-4</th>\n",
       "      <th>g-5</th>\n",
       "      <th>g-6</th>\n",
       "      <th>g-7</th>\n",
       "      <th>g-8</th>\n",
       "      <th>...</th>\n",
       "      <th>c-90</th>\n",
       "      <th>c-91</th>\n",
       "      <th>c-92</th>\n",
       "      <th>c-93</th>\n",
       "      <th>c-94</th>\n",
       "      <th>c-95</th>\n",
       "      <th>c-96</th>\n",
       "      <th>c-97</th>\n",
       "      <th>c-98</th>\n",
       "      <th>c-99</th>\n",
       "    </tr>\n",
       "  </thead>\n",
       "  <tbody>\n",
       "    <tr>\n",
       "      <th>count</th>\n",
       "      <td>23814.000000</td>\n",
       "      <td>23814.000000</td>\n",
       "      <td>23814.000000</td>\n",
       "      <td>23814.000000</td>\n",
       "      <td>23814.000000</td>\n",
       "      <td>23814.000000</td>\n",
       "      <td>23814.000000</td>\n",
       "      <td>23814.000000</td>\n",
       "      <td>23814.000000</td>\n",
       "      <td>23814.000000</td>\n",
       "      <td>...</td>\n",
       "      <td>23814.000000</td>\n",
       "      <td>23814.000000</td>\n",
       "      <td>23814.000000</td>\n",
       "      <td>23814.000000</td>\n",
       "      <td>23814.000000</td>\n",
       "      <td>23814.000000</td>\n",
       "      <td>23814.000000</td>\n",
       "      <td>23814.000000</td>\n",
       "      <td>23814.000000</td>\n",
       "      <td>23814.000000</td>\n",
       "    </tr>\n",
       "    <tr>\n",
       "      <th>mean</th>\n",
       "      <td>48.020156</td>\n",
       "      <td>0.248366</td>\n",
       "      <td>-0.095684</td>\n",
       "      <td>0.152253</td>\n",
       "      <td>0.081971</td>\n",
       "      <td>0.057347</td>\n",
       "      <td>-0.138836</td>\n",
       "      <td>0.035961</td>\n",
       "      <td>-0.202651</td>\n",
       "      <td>-0.190083</td>\n",
       "      <td>...</td>\n",
       "      <td>-0.469244</td>\n",
       "      <td>-0.461411</td>\n",
       "      <td>-0.513256</td>\n",
       "      <td>-0.500142</td>\n",
       "      <td>-0.507093</td>\n",
       "      <td>-0.353726</td>\n",
       "      <td>-0.463485</td>\n",
       "      <td>-0.378241</td>\n",
       "      <td>-0.470252</td>\n",
       "      <td>-0.301505</td>\n",
       "    </tr>\n",
       "    <tr>\n",
       "      <th>std</th>\n",
       "      <td>19.402807</td>\n",
       "      <td>1.393399</td>\n",
       "      <td>0.812363</td>\n",
       "      <td>1.035731</td>\n",
       "      <td>0.950012</td>\n",
       "      <td>1.032091</td>\n",
       "      <td>1.179388</td>\n",
       "      <td>0.882395</td>\n",
       "      <td>1.125494</td>\n",
       "      <td>1.749885</td>\n",
       "      <td>...</td>\n",
       "      <td>2.000488</td>\n",
       "      <td>2.042475</td>\n",
       "      <td>2.001714</td>\n",
       "      <td>2.107105</td>\n",
       "      <td>2.159589</td>\n",
       "      <td>1.629291</td>\n",
       "      <td>2.059725</td>\n",
       "      <td>1.703615</td>\n",
       "      <td>1.834828</td>\n",
       "      <td>1.407918</td>\n",
       "    </tr>\n",
       "    <tr>\n",
       "      <th>min</th>\n",
       "      <td>24.000000</td>\n",
       "      <td>-5.513000</td>\n",
       "      <td>-5.737000</td>\n",
       "      <td>-9.104000</td>\n",
       "      <td>-5.998000</td>\n",
       "      <td>-6.369000</td>\n",
       "      <td>-10.000000</td>\n",
       "      <td>-10.000000</td>\n",
       "      <td>-10.000000</td>\n",
       "      <td>-10.000000</td>\n",
       "      <td>...</td>\n",
       "      <td>-10.000000</td>\n",
       "      <td>-10.000000</td>\n",
       "      <td>-10.000000</td>\n",
       "      <td>-10.000000</td>\n",
       "      <td>-10.000000</td>\n",
       "      <td>-10.000000</td>\n",
       "      <td>-10.000000</td>\n",
       "      <td>-10.000000</td>\n",
       "      <td>-10.000000</td>\n",
       "      <td>-10.000000</td>\n",
       "    </tr>\n",
       "    <tr>\n",
       "      <th>25%</th>\n",
       "      <td>24.000000</td>\n",
       "      <td>-0.473075</td>\n",
       "      <td>-0.562200</td>\n",
       "      <td>-0.437750</td>\n",
       "      <td>-0.429575</td>\n",
       "      <td>-0.470925</td>\n",
       "      <td>-0.602225</td>\n",
       "      <td>-0.493900</td>\n",
       "      <td>-0.525175</td>\n",
       "      <td>-0.511675</td>\n",
       "      <td>...</td>\n",
       "      <td>-0.566175</td>\n",
       "      <td>-0.565975</td>\n",
       "      <td>-0.589975</td>\n",
       "      <td>-0.568700</td>\n",
       "      <td>-0.563775</td>\n",
       "      <td>-0.567975</td>\n",
       "      <td>-0.552575</td>\n",
       "      <td>-0.561000</td>\n",
       "      <td>-0.592600</td>\n",
       "      <td>-0.562900</td>\n",
       "    </tr>\n",
       "    <tr>\n",
       "      <th>50%</th>\n",
       "      <td>48.000000</td>\n",
       "      <td>-0.008850</td>\n",
       "      <td>-0.046600</td>\n",
       "      <td>0.075200</td>\n",
       "      <td>0.008050</td>\n",
       "      <td>-0.026900</td>\n",
       "      <td>-0.015650</td>\n",
       "      <td>-0.000650</td>\n",
       "      <td>-0.017900</td>\n",
       "      <td>0.010000</td>\n",
       "      <td>...</td>\n",
       "      <td>-0.009900</td>\n",
       "      <td>0.003250</td>\n",
       "      <td>-0.009100</td>\n",
       "      <td>-0.013750</td>\n",
       "      <td>-0.003300</td>\n",
       "      <td>-0.010250</td>\n",
       "      <td>-0.001250</td>\n",
       "      <td>-0.006800</td>\n",
       "      <td>0.014000</td>\n",
       "      <td>-0.019500</td>\n",
       "    </tr>\n",
       "    <tr>\n",
       "      <th>75%</th>\n",
       "      <td>72.000000</td>\n",
       "      <td>0.525700</td>\n",
       "      <td>0.403075</td>\n",
       "      <td>0.663925</td>\n",
       "      <td>0.463400</td>\n",
       "      <td>0.465375</td>\n",
       "      <td>0.510425</td>\n",
       "      <td>0.528725</td>\n",
       "      <td>0.411900</td>\n",
       "      <td>0.549225</td>\n",
       "      <td>...</td>\n",
       "      <td>0.457750</td>\n",
       "      <td>0.461500</td>\n",
       "      <td>0.445675</td>\n",
       "      <td>0.452900</td>\n",
       "      <td>0.470900</td>\n",
       "      <td>0.444750</td>\n",
       "      <td>0.465225</td>\n",
       "      <td>0.446400</td>\n",
       "      <td>0.461275</td>\n",
       "      <td>0.438650</td>\n",
       "    </tr>\n",
       "    <tr>\n",
       "      <th>max</th>\n",
       "      <td>72.000000</td>\n",
       "      <td>10.000000</td>\n",
       "      <td>5.039000</td>\n",
       "      <td>8.257000</td>\n",
       "      <td>10.000000</td>\n",
       "      <td>10.000000</td>\n",
       "      <td>7.282000</td>\n",
       "      <td>7.333000</td>\n",
       "      <td>5.473000</td>\n",
       "      <td>8.887000</td>\n",
       "      <td>...</td>\n",
       "      <td>4.069000</td>\n",
       "      <td>3.960000</td>\n",
       "      <td>3.927000</td>\n",
       "      <td>3.596000</td>\n",
       "      <td>3.747000</td>\n",
       "      <td>2.814000</td>\n",
       "      <td>3.505000</td>\n",
       "      <td>2.924000</td>\n",
       "      <td>3.111000</td>\n",
       "      <td>3.805000</td>\n",
       "    </tr>\n",
       "  </tbody>\n",
       "</table>\n",
       "<p>8 rows × 873 columns</p>\n",
       "</div>"
      ],
      "text/plain": [
       "              tempo           g-0           g-1           g-2           g-3  \\\n",
       "count  23814.000000  23814.000000  23814.000000  23814.000000  23814.000000   \n",
       "mean      48.020156      0.248366     -0.095684      0.152253      0.081971   \n",
       "std       19.402807      1.393399      0.812363      1.035731      0.950012   \n",
       "min       24.000000     -5.513000     -5.737000     -9.104000     -5.998000   \n",
       "25%       24.000000     -0.473075     -0.562200     -0.437750     -0.429575   \n",
       "50%       48.000000     -0.008850     -0.046600      0.075200      0.008050   \n",
       "75%       72.000000      0.525700      0.403075      0.663925      0.463400   \n",
       "max       72.000000     10.000000      5.039000      8.257000     10.000000   \n",
       "\n",
       "                g-4           g-5           g-6           g-7           g-8  \\\n",
       "count  23814.000000  23814.000000  23814.000000  23814.000000  23814.000000   \n",
       "mean       0.057347     -0.138836      0.035961     -0.202651     -0.190083   \n",
       "std        1.032091      1.179388      0.882395      1.125494      1.749885   \n",
       "min       -6.369000    -10.000000    -10.000000    -10.000000    -10.000000   \n",
       "25%       -0.470925     -0.602225     -0.493900     -0.525175     -0.511675   \n",
       "50%       -0.026900     -0.015650     -0.000650     -0.017900      0.010000   \n",
       "75%        0.465375      0.510425      0.528725      0.411900      0.549225   \n",
       "max       10.000000      7.282000      7.333000      5.473000      8.887000   \n",
       "\n",
       "       ...          c-90          c-91          c-92          c-93  \\\n",
       "count  ...  23814.000000  23814.000000  23814.000000  23814.000000   \n",
       "mean   ...     -0.469244     -0.461411     -0.513256     -0.500142   \n",
       "std    ...      2.000488      2.042475      2.001714      2.107105   \n",
       "min    ...    -10.000000    -10.000000    -10.000000    -10.000000   \n",
       "25%    ...     -0.566175     -0.565975     -0.589975     -0.568700   \n",
       "50%    ...     -0.009900      0.003250     -0.009100     -0.013750   \n",
       "75%    ...      0.457750      0.461500      0.445675      0.452900   \n",
       "max    ...      4.069000      3.960000      3.927000      3.596000   \n",
       "\n",
       "               c-94          c-95          c-96          c-97          c-98  \\\n",
       "count  23814.000000  23814.000000  23814.000000  23814.000000  23814.000000   \n",
       "mean      -0.507093     -0.353726     -0.463485     -0.378241     -0.470252   \n",
       "std        2.159589      1.629291      2.059725      1.703615      1.834828   \n",
       "min      -10.000000    -10.000000    -10.000000    -10.000000    -10.000000   \n",
       "25%       -0.563775     -0.567975     -0.552575     -0.561000     -0.592600   \n",
       "50%       -0.003300     -0.010250     -0.001250     -0.006800      0.014000   \n",
       "75%        0.470900      0.444750      0.465225      0.446400      0.461275   \n",
       "max        3.747000      2.814000      3.505000      2.924000      3.111000   \n",
       "\n",
       "               c-99  \n",
       "count  23814.000000  \n",
       "mean      -0.301505  \n",
       "std        1.407918  \n",
       "min      -10.000000  \n",
       "25%       -0.562900  \n",
       "50%       -0.019500  \n",
       "75%        0.438650  \n",
       "max        3.805000  \n",
       "\n",
       "[8 rows x 873 columns]"
      ]
     },
     "execution_count": 30,
     "metadata": {},
     "output_type": "execute_result"
    }
   ],
   "source": [
    "dados.describe()"
   ]
  },
  {
   "cell_type": "markdown",
   "metadata": {
    "id": "G4mCKUkUFYhb"
   },
   "source": [
    "Neste ponto, vamos separar as variáveis que queremos analisar da base de dados (exemplo: ```g-0``` e ```g-1```) através de uma lista de arrays.\n",
    "Entretanto, apesar desta ser uma ótima estratégia para a separação, temos 771 genes e escrevê-los um a um seria muito trabalhoso e podemos fazer de uma outra forma."
   ]
  },
  {
   "cell_type": "code",
   "execution_count": 31,
   "metadata": {
    "colab": {
     "base_uri": "https://localhost:8080/",
     "height": 402
    },
    "executionInfo": {
     "elapsed": 958,
     "status": "ok",
     "timestamp": 1618425286839,
     "user": {
      "displayName": "alura cursos",
      "photoUrl": "",
      "userId": "17957571670599323429"
     },
     "user_tz": 180
    },
    "id": "OAkjbZdkqPlR",
    "outputId": "4ceac20c-8e19-44ca-f936-0ae635662e9e"
   },
   "outputs": [
    {
     "data": {
      "text/html": [
       "<div>\n",
       "<style scoped>\n",
       "    .dataframe tbody tr th:only-of-type {\n",
       "        vertical-align: middle;\n",
       "    }\n",
       "\n",
       "    .dataframe tbody tr th {\n",
       "        vertical-align: top;\n",
       "    }\n",
       "\n",
       "    .dataframe thead th {\n",
       "        text-align: right;\n",
       "    }\n",
       "</style>\n",
       "<table border=\"1\" class=\"dataframe\">\n",
       "  <thead>\n",
       "    <tr style=\"text-align: right;\">\n",
       "      <th></th>\n",
       "      <th>g-0</th>\n",
       "      <th>g-1</th>\n",
       "    </tr>\n",
       "  </thead>\n",
       "  <tbody>\n",
       "    <tr>\n",
       "      <th>0</th>\n",
       "      <td>1.0620</td>\n",
       "      <td>0.5577</td>\n",
       "    </tr>\n",
       "    <tr>\n",
       "      <th>1</th>\n",
       "      <td>0.0743</td>\n",
       "      <td>0.4087</td>\n",
       "    </tr>\n",
       "    <tr>\n",
       "      <th>2</th>\n",
       "      <td>0.6280</td>\n",
       "      <td>0.5817</td>\n",
       "    </tr>\n",
       "    <tr>\n",
       "      <th>3</th>\n",
       "      <td>-0.5138</td>\n",
       "      <td>-0.2491</td>\n",
       "    </tr>\n",
       "    <tr>\n",
       "      <th>4</th>\n",
       "      <td>-0.3254</td>\n",
       "      <td>-0.4009</td>\n",
       "    </tr>\n",
       "    <tr>\n",
       "      <th>...</th>\n",
       "      <td>...</td>\n",
       "      <td>...</td>\n",
       "    </tr>\n",
       "    <tr>\n",
       "      <th>23809</th>\n",
       "      <td>0.1394</td>\n",
       "      <td>-0.0636</td>\n",
       "    </tr>\n",
       "    <tr>\n",
       "      <th>23810</th>\n",
       "      <td>-1.3260</td>\n",
       "      <td>0.3478</td>\n",
       "    </tr>\n",
       "    <tr>\n",
       "      <th>23811</th>\n",
       "      <td>0.3942</td>\n",
       "      <td>0.3756</td>\n",
       "    </tr>\n",
       "    <tr>\n",
       "      <th>23812</th>\n",
       "      <td>0.6660</td>\n",
       "      <td>0.2324</td>\n",
       "    </tr>\n",
       "    <tr>\n",
       "      <th>23813</th>\n",
       "      <td>-0.8598</td>\n",
       "      <td>1.0240</td>\n",
       "    </tr>\n",
       "  </tbody>\n",
       "</table>\n",
       "<p>23814 rows × 2 columns</p>\n",
       "</div>"
      ],
      "text/plain": [
       "          g-0     g-1\n",
       "0      1.0620  0.5577\n",
       "1      0.0743  0.4087\n",
       "2      0.6280  0.5817\n",
       "3     -0.5138 -0.2491\n",
       "4     -0.3254 -0.4009\n",
       "...       ...     ...\n",
       "23809  0.1394 -0.0636\n",
       "23810 -1.3260  0.3478\n",
       "23811  0.3942  0.3756\n",
       "23812  0.6660  0.2324\n",
       "23813 -0.8598  1.0240\n",
       "\n",
       "[23814 rows x 2 columns]"
      ]
     },
     "execution_count": 31,
     "metadata": {},
     "output_type": "execute_result"
    }
   ],
   "source": [
    "dados[['g-0', 'g-1']]"
   ]
  },
  {
   "cell_type": "markdown",
   "metadata": {
    "id": "0LHi_9AUGFmS"
   },
   "source": [
    "Uma estratégia mais direta em que não precisaremos escrever a lista gene a gene, é o uso da função ```loc[]``` do Pandas.\n",
    "Como argumentos, passamos primeiramente o ```:```, os dois pontos faz com que o ```loc[]```retorne todos os elementos de uma determinada coluna, isso é importante quando não sabemos qual a quantidade de linhas de um dataframe. E, o segundo elemento, passamos as colunas que são de nosso interesse. No caso, queremos que a função nos retorne todos os elementos das colunas ```g-0```até ```g-771```.\n",
    "E, por fim, podemos declarar a nossa função de interesse a partir deste filtro realizado nos dados, o ```describe()```."
   ]
  },
  {
   "cell_type": "code",
   "execution_count": 32,
   "metadata": {
    "colab": {
     "base_uri": "https://localhost:8080/",
     "height": 333
    },
    "executionInfo": {
     "elapsed": 3461,
     "status": "ok",
     "timestamp": 1618425430308,
     "user": {
      "displayName": "alura cursos",
      "photoUrl": "",
      "userId": "17957571670599323429"
     },
     "user_tz": 180
    },
    "id": "dQX0KOhUqm66",
    "outputId": "8438f973-94dc-4e2d-a1d7-74222eeee16b"
   },
   "outputs": [
    {
     "data": {
      "text/html": [
       "<div>\n",
       "<style scoped>\n",
       "    .dataframe tbody tr th:only-of-type {\n",
       "        vertical-align: middle;\n",
       "    }\n",
       "\n",
       "    .dataframe tbody tr th {\n",
       "        vertical-align: top;\n",
       "    }\n",
       "\n",
       "    .dataframe thead th {\n",
       "        text-align: right;\n",
       "    }\n",
       "</style>\n",
       "<table border=\"1\" class=\"dataframe\">\n",
       "  <thead>\n",
       "    <tr style=\"text-align: right;\">\n",
       "      <th></th>\n",
       "      <th>g-0</th>\n",
       "      <th>g-1</th>\n",
       "      <th>g-2</th>\n",
       "      <th>g-3</th>\n",
       "      <th>g-4</th>\n",
       "      <th>g-5</th>\n",
       "      <th>g-6</th>\n",
       "      <th>g-7</th>\n",
       "      <th>g-8</th>\n",
       "      <th>g-9</th>\n",
       "      <th>...</th>\n",
       "      <th>g-762</th>\n",
       "      <th>g-763</th>\n",
       "      <th>g-764</th>\n",
       "      <th>g-765</th>\n",
       "      <th>g-766</th>\n",
       "      <th>g-767</th>\n",
       "      <th>g-768</th>\n",
       "      <th>g-769</th>\n",
       "      <th>g-770</th>\n",
       "      <th>g-771</th>\n",
       "    </tr>\n",
       "  </thead>\n",
       "  <tbody>\n",
       "    <tr>\n",
       "      <th>count</th>\n",
       "      <td>23814.000000</td>\n",
       "      <td>23814.000000</td>\n",
       "      <td>23814.000000</td>\n",
       "      <td>23814.000000</td>\n",
       "      <td>23814.000000</td>\n",
       "      <td>23814.000000</td>\n",
       "      <td>23814.000000</td>\n",
       "      <td>23814.000000</td>\n",
       "      <td>23814.000000</td>\n",
       "      <td>23814.000000</td>\n",
       "      <td>...</td>\n",
       "      <td>23814.000000</td>\n",
       "      <td>23814.000000</td>\n",
       "      <td>23814.000000</td>\n",
       "      <td>23814.000000</td>\n",
       "      <td>23814.000000</td>\n",
       "      <td>23814.000000</td>\n",
       "      <td>23814.000000</td>\n",
       "      <td>23814.000000</td>\n",
       "      <td>23814.000000</td>\n",
       "      <td>23814.000000</td>\n",
       "    </tr>\n",
       "    <tr>\n",
       "      <th>mean</th>\n",
       "      <td>0.248366</td>\n",
       "      <td>-0.095684</td>\n",
       "      <td>0.152253</td>\n",
       "      <td>0.081971</td>\n",
       "      <td>0.057347</td>\n",
       "      <td>-0.138836</td>\n",
       "      <td>0.035961</td>\n",
       "      <td>-0.202651</td>\n",
       "      <td>-0.190083</td>\n",
       "      <td>0.119905</td>\n",
       "      <td>...</td>\n",
       "      <td>0.207299</td>\n",
       "      <td>0.009161</td>\n",
       "      <td>0.171027</td>\n",
       "      <td>0.002316</td>\n",
       "      <td>-0.209799</td>\n",
       "      <td>-0.076251</td>\n",
       "      <td>0.134162</td>\n",
       "      <td>-0.128018</td>\n",
       "      <td>-0.219210</td>\n",
       "      <td>0.101524</td>\n",
       "    </tr>\n",
       "    <tr>\n",
       "      <th>std</th>\n",
       "      <td>1.393399</td>\n",
       "      <td>0.812363</td>\n",
       "      <td>1.035731</td>\n",
       "      <td>0.950012</td>\n",
       "      <td>1.032091</td>\n",
       "      <td>1.179388</td>\n",
       "      <td>0.882395</td>\n",
       "      <td>1.125494</td>\n",
       "      <td>1.749885</td>\n",
       "      <td>1.087180</td>\n",
       "      <td>...</td>\n",
       "      <td>1.096488</td>\n",
       "      <td>1.200395</td>\n",
       "      <td>1.357701</td>\n",
       "      <td>1.052771</td>\n",
       "      <td>1.201918</td>\n",
       "      <td>1.115477</td>\n",
       "      <td>0.951264</td>\n",
       "      <td>1.230636</td>\n",
       "      <td>1.326193</td>\n",
       "      <td>1.417674</td>\n",
       "    </tr>\n",
       "    <tr>\n",
       "      <th>min</th>\n",
       "      <td>-5.513000</td>\n",
       "      <td>-5.737000</td>\n",
       "      <td>-9.104000</td>\n",
       "      <td>-5.998000</td>\n",
       "      <td>-6.369000</td>\n",
       "      <td>-10.000000</td>\n",
       "      <td>-10.000000</td>\n",
       "      <td>-10.000000</td>\n",
       "      <td>-10.000000</td>\n",
       "      <td>-8.337000</td>\n",
       "      <td>...</td>\n",
       "      <td>-8.193000</td>\n",
       "      <td>-10.000000</td>\n",
       "      <td>-9.795000</td>\n",
       "      <td>-8.180000</td>\n",
       "      <td>-10.000000</td>\n",
       "      <td>-10.000000</td>\n",
       "      <td>-4.269000</td>\n",
       "      <td>-10.000000</td>\n",
       "      <td>-10.000000</td>\n",
       "      <td>-10.000000</td>\n",
       "    </tr>\n",
       "    <tr>\n",
       "      <th>25%</th>\n",
       "      <td>-0.473075</td>\n",
       "      <td>-0.562200</td>\n",
       "      <td>-0.437750</td>\n",
       "      <td>-0.429575</td>\n",
       "      <td>-0.470925</td>\n",
       "      <td>-0.602225</td>\n",
       "      <td>-0.493900</td>\n",
       "      <td>-0.525175</td>\n",
       "      <td>-0.511675</td>\n",
       "      <td>-0.360200</td>\n",
       "      <td>...</td>\n",
       "      <td>-0.433875</td>\n",
       "      <td>-0.502250</td>\n",
       "      <td>-0.537075</td>\n",
       "      <td>-0.508775</td>\n",
       "      <td>-0.606175</td>\n",
       "      <td>-0.506200</td>\n",
       "      <td>-0.353100</td>\n",
       "      <td>-0.544600</td>\n",
       "      <td>-0.554400</td>\n",
       "      <td>-0.523800</td>\n",
       "    </tr>\n",
       "    <tr>\n",
       "      <th>50%</th>\n",
       "      <td>-0.008850</td>\n",
       "      <td>-0.046600</td>\n",
       "      <td>0.075200</td>\n",
       "      <td>0.008050</td>\n",
       "      <td>-0.026900</td>\n",
       "      <td>-0.015650</td>\n",
       "      <td>-0.000650</td>\n",
       "      <td>-0.017900</td>\n",
       "      <td>0.010000</td>\n",
       "      <td>0.160450</td>\n",
       "      <td>...</td>\n",
       "      <td>0.059600</td>\n",
       "      <td>-0.005900</td>\n",
       "      <td>-0.013600</td>\n",
       "      <td>-0.027700</td>\n",
       "      <td>-0.011850</td>\n",
       "      <td>0.009900</td>\n",
       "      <td>0.005400</td>\n",
       "      <td>0.000600</td>\n",
       "      <td>0.028700</td>\n",
       "      <td>-0.006500</td>\n",
       "    </tr>\n",
       "    <tr>\n",
       "      <th>75%</th>\n",
       "      <td>0.525700</td>\n",
       "      <td>0.403075</td>\n",
       "      <td>0.663925</td>\n",
       "      <td>0.463400</td>\n",
       "      <td>0.465375</td>\n",
       "      <td>0.510425</td>\n",
       "      <td>0.528725</td>\n",
       "      <td>0.411900</td>\n",
       "      <td>0.549225</td>\n",
       "      <td>0.697775</td>\n",
       "      <td>...</td>\n",
       "      <td>0.648500</td>\n",
       "      <td>0.492150</td>\n",
       "      <td>0.522500</td>\n",
       "      <td>0.457000</td>\n",
       "      <td>0.483000</td>\n",
       "      <td>0.511175</td>\n",
       "      <td>0.409075</td>\n",
       "      <td>0.498500</td>\n",
       "      <td>0.496400</td>\n",
       "      <td>0.536950</td>\n",
       "    </tr>\n",
       "    <tr>\n",
       "      <th>max</th>\n",
       "      <td>10.000000</td>\n",
       "      <td>5.039000</td>\n",
       "      <td>8.257000</td>\n",
       "      <td>10.000000</td>\n",
       "      <td>10.000000</td>\n",
       "      <td>7.282000</td>\n",
       "      <td>7.333000</td>\n",
       "      <td>5.473000</td>\n",
       "      <td>8.887000</td>\n",
       "      <td>6.433000</td>\n",
       "      <td>...</td>\n",
       "      <td>10.000000</td>\n",
       "      <td>9.552000</td>\n",
       "      <td>10.000000</td>\n",
       "      <td>8.346000</td>\n",
       "      <td>5.444000</td>\n",
       "      <td>6.317000</td>\n",
       "      <td>10.000000</td>\n",
       "      <td>5.911000</td>\n",
       "      <td>10.000000</td>\n",
       "      <td>10.000000</td>\n",
       "    </tr>\n",
       "  </tbody>\n",
       "</table>\n",
       "<p>8 rows × 772 columns</p>\n",
       "</div>"
      ],
      "text/plain": [
       "                g-0           g-1           g-2           g-3           g-4  \\\n",
       "count  23814.000000  23814.000000  23814.000000  23814.000000  23814.000000   \n",
       "mean       0.248366     -0.095684      0.152253      0.081971      0.057347   \n",
       "std        1.393399      0.812363      1.035731      0.950012      1.032091   \n",
       "min       -5.513000     -5.737000     -9.104000     -5.998000     -6.369000   \n",
       "25%       -0.473075     -0.562200     -0.437750     -0.429575     -0.470925   \n",
       "50%       -0.008850     -0.046600      0.075200      0.008050     -0.026900   \n",
       "75%        0.525700      0.403075      0.663925      0.463400      0.465375   \n",
       "max       10.000000      5.039000      8.257000     10.000000     10.000000   \n",
       "\n",
       "                g-5           g-6           g-7           g-8           g-9  \\\n",
       "count  23814.000000  23814.000000  23814.000000  23814.000000  23814.000000   \n",
       "mean      -0.138836      0.035961     -0.202651     -0.190083      0.119905   \n",
       "std        1.179388      0.882395      1.125494      1.749885      1.087180   \n",
       "min      -10.000000    -10.000000    -10.000000    -10.000000     -8.337000   \n",
       "25%       -0.602225     -0.493900     -0.525175     -0.511675     -0.360200   \n",
       "50%       -0.015650     -0.000650     -0.017900      0.010000      0.160450   \n",
       "75%        0.510425      0.528725      0.411900      0.549225      0.697775   \n",
       "max        7.282000      7.333000      5.473000      8.887000      6.433000   \n",
       "\n",
       "       ...         g-762         g-763         g-764         g-765  \\\n",
       "count  ...  23814.000000  23814.000000  23814.000000  23814.000000   \n",
       "mean   ...      0.207299      0.009161      0.171027      0.002316   \n",
       "std    ...      1.096488      1.200395      1.357701      1.052771   \n",
       "min    ...     -8.193000    -10.000000     -9.795000     -8.180000   \n",
       "25%    ...     -0.433875     -0.502250     -0.537075     -0.508775   \n",
       "50%    ...      0.059600     -0.005900     -0.013600     -0.027700   \n",
       "75%    ...      0.648500      0.492150      0.522500      0.457000   \n",
       "max    ...     10.000000      9.552000     10.000000      8.346000   \n",
       "\n",
       "              g-766         g-767         g-768         g-769         g-770  \\\n",
       "count  23814.000000  23814.000000  23814.000000  23814.000000  23814.000000   \n",
       "mean      -0.209799     -0.076251      0.134162     -0.128018     -0.219210   \n",
       "std        1.201918      1.115477      0.951264      1.230636      1.326193   \n",
       "min      -10.000000    -10.000000     -4.269000    -10.000000    -10.000000   \n",
       "25%       -0.606175     -0.506200     -0.353100     -0.544600     -0.554400   \n",
       "50%       -0.011850      0.009900      0.005400      0.000600      0.028700   \n",
       "75%        0.483000      0.511175      0.409075      0.498500      0.496400   \n",
       "max        5.444000      6.317000     10.000000      5.911000     10.000000   \n",
       "\n",
       "              g-771  \n",
       "count  23814.000000  \n",
       "mean       0.101524  \n",
       "std        1.417674  \n",
       "min      -10.000000  \n",
       "25%       -0.523800  \n",
       "50%       -0.006500  \n",
       "75%        0.536950  \n",
       "max       10.000000  \n",
       "\n",
       "[8 rows x 772 columns]"
      ]
     },
     "execution_count": 32,
     "metadata": {},
     "output_type": "execute_result"
    }
   ],
   "source": [
    "dados.loc[:,'g-0':'g-771'].describe()"
   ]
  },
  {
   "cell_type": "markdown",
   "metadata": {
    "id": "8mp610qzHQGY"
   },
   "source": [
    "Apesar do describe reunir as nossas estatísticas de interesse, é bastante complexo analisar o dataframe resposta. Para facilitar o nosso entendimento, vamos plotar histogramas que nos ajudaram na visualização das estatísticas de todas as colunas selecionadas.\n",
    "Olhando o dataframe original, anteriormente, fizemos o histograma de apenas uma coluna. Mas agora, nosso conjunto de dados de interesse é o ```describe()``` que fizemos a partir do ```loc[]``` e, deste ponto de vista, não queremos mais fazer o histograma coluna a coluna (genes), queremos que ele seja a partir das linhas (estatísticas). Por isso, vamos transpor as linhas e colunas (transformar as linhas em colunas e vice-versa).\n",
    "Para isso, vamos usar o ```.T[]``` no código anterior que produzimos para organizar o ```describe()```.\n",
    "Ou seja, vamos manter todo o código até o ```describe()``` e, ao final, acrescentaremos o ```.T[]```. Mas, ao rodarmos essa linha, percebemos que temos como devolutiva o mesmo dataframe mas transposto. E, como aqui, nosso interesse é produzir histogramas, acrescentamos como argumento do ```.T[]``` a estatística alvo (```.T['estatística']```) e, por último, acrescentamos o ```.hist(bins = número de quebras)``` para que o histograma seja observado.\n",
    "\n"
   ]
  },
  {
   "cell_type": "code",
   "execution_count": 33,
   "metadata": {
    "colab": {
     "base_uri": "https://localhost:8080/",
     "height": 285
    },
    "executionInfo": {
     "elapsed": 2999,
     "status": "ok",
     "timestamp": 1618425598273,
     "user": {
      "displayName": "alura cursos",
      "photoUrl": "",
      "userId": "17957571670599323429"
     },
     "user_tz": 180
    },
    "id": "ij9QVxGArZsd",
    "outputId": "1868232d-41b6-4e97-a7fc-789115ece46f"
   },
   "outputs": [
    {
     "data": {
      "text/plain": [
       "<AxesSubplot:>"
      ]
     },
     "execution_count": 33,
     "metadata": {},
     "output_type": "execute_result"
    },
    {
     "data": {
      "image/png": "[encoded data removed]",
      "text/plain": [
       "<Figure size 432x288 with 1 Axes>"
      ]
     },
     "metadata": {},
     "output_type": "display_data"
    }
   ],
   "source": [
    "dados.loc[:,'g-0':'g-771'].describe().T['mean'].hist(bins=30)"
   ]
  },
  {
   "cell_type": "markdown",
   "metadata": {
    "id": "qbINMiTKKNqK"
   },
   "source": [
    "A seguir, reproduzimos o código acima apenas alterando o parâmetro estatístico a ser analisado (mínimo e máximo, por exemplo). \n",
    "E assim, podemos perceber as nuances de cada métrica."
   ]
  },
  {
   "cell_type": "code",
   "execution_count": 34,
   "metadata": {
    "colab": {
     "base_uri": "https://localhost:8080/",
     "height": 285
    },
    "executionInfo": {
     "elapsed": 3591,
     "status": "ok",
     "timestamp": 1618425644997,
     "user": {
      "displayName": "alura cursos",
      "photoUrl": "",
      "userId": "17957571670599323429"
     },
     "user_tz": 180
    },
    "id": "u31uRxYWr2PG",
    "outputId": "f03b7c01-049c-426f-c5b0-616b1007d4c3"
   },
   "outputs": [
    {
     "data": {
      "text/plain": [
       "<AxesSubplot:>"
      ]
     },
     "execution_count": 34,
     "metadata": {},
     "output_type": "execute_result"
    },
    {
     "data": {
      "image/png": "[encoded data removed]",
      "text/plain": [
       "<Figure size 432x288 with 1 Axes>"
      ]
     },
     "metadata": {},
     "output_type": "display_data"
    }
   ],
   "source": [
    "dados.loc[:,'g-0':'g-771'].describe().T['min'].hist(bins=30)"
   ]
  },
  {
   "cell_type": "code",
   "execution_count": 35,
   "metadata": {
    "colab": {
     "base_uri": "https://localhost:8080/",
     "height": 285
    },
    "executionInfo": {
     "elapsed": 3619,
     "status": "ok",
     "timestamp": 1618425669982,
     "user": {
      "displayName": "alura cursos",
      "photoUrl": "",
      "userId": "17957571670599323429"
     },
     "user_tz": 180
    },
    "id": "bYnsG81Sr8mc",
    "outputId": "2d541d74-d1fa-46ac-92ad-2bd15c2a4475"
   },
   "outputs": [
    {
     "data": {
      "text/plain": [
       "<AxesSubplot:>"
      ]
     },
     "execution_count": 35,
     "metadata": {},
     "output_type": "execute_result"
    },
    {
     "data": {
      "image/png": "[encoded data removed]",
      "text/plain": [
       "<Figure size 432x288 with 1 Axes>"
      ]
     },
     "metadata": {},
     "output_type": "display_data"
    }
   ],
   "source": [
    "dados.loc[:,'g-0':'g-771'].describe().T['max'].hist(bins=30)"
   ]
  },
  {
   "cell_type": "markdown",
   "metadata": {
    "id": "g8FvuJapKhco"
   },
   "source": [
    "É muito interessante que a gente replique a análise desenvolvida para os ```genes (g)```, nos ```tipos celulares (c)```. \n",
    "Por isso, vamos copiar a linha de código que produz os histogramas mas aqui, vamos modificar o argumento ```loc[:,'g-0':'g-771'] -> loc[:,'c-0':'c-99']``` e a quantidade de bins ```hist(bins=100) -> hist(bins=50)```."
   ]
  },
  {
   "cell_type": "code",
   "execution_count": 36,
   "metadata": {
    "colab": {
     "base_uri": "https://localhost:8080/",
     "height": 285
    },
    "executionInfo": {
     "elapsed": 1917,
     "status": "ok",
     "timestamp": 1618426295709,
     "user": {
      "displayName": "alura cursos",
      "photoUrl": "",
      "userId": "17957571670599323429"
     },
     "user_tz": 180
    },
    "id": "hu2jZ2snuJ09",
    "outputId": "a95dac31-8ee7-474c-f50b-e5f376dac152"
   },
   "outputs": [
    {
     "data": {
      "text/plain": [
       "<AxesSubplot:>"
      ]
     },
     "execution_count": 36,
     "metadata": {},
     "output_type": "execute_result"
    },
    {
     "data": {
      "image/png": "[encoded data removed]",
      "text/plain": [
       "<Figure size 432x288 with 1 Axes>"
      ]
     },
     "metadata": {},
     "output_type": "display_data"
    }
   ],
   "source": [
    "dados.loc[:,'c-0':'c-99'].describe().T['mean'].hist(bins=50)"
   ]
  },
  {
   "cell_type": "markdown",
   "metadata": {
    "id": "kUCr17j6xpu5"
   },
   "source": [
    "Um outro tipo de gráfico super interessante e útil é o boxplot. \n",
    "Para visualizá-lo, vamos usar a função ```boxplot```do Seaborn e, como argumentos dessa função vamos passar um ```x```, onde ```x = coluna que será plotada neste eixo``` e a base de dados ```data = conjunto de dados```.\n",
    "O boxplot apresenta uma caixa no meio onde podemos identificar a mediana (linha no meio da caixa que é o ponto onde metade dos dados estão na direita e a outra metade para a esquerda), os outliers (pontos acima ou abaixo do eixo principal do gráfico que representam valores discrepantes para mais ou para menos), a maior concentração dos dados (caixa principal que representa onde está a mior parte dos dados - primeiro quartil (25%) e terceiro quartil (75%)) e os máximos e mínimos desconsiderando os outliers (linhas laterais à caixa principal).\n",
    "O boxplot é uma importante ferramenta na visualização de dados porque em apenas um gráfico, podemos identificar várias métricas estatísticas."
   ]
  },
  {
   "cell_type": "code",
   "execution_count": 37,
   "metadata": {
    "colab": {
     "base_uri": "https://localhost:8080/",
     "height": 302
    },
    "executionInfo": {
     "elapsed": 931,
     "status": "ok",
     "timestamp": 1618426749777,
     "user": {
      "displayName": "alura cursos",
      "photoUrl": "",
      "userId": "17957571670599323429"
     },
     "user_tz": 180
    },
    "id": "R9LHaY0yv29K",
    "outputId": "cb407ec7-1913-49b3-c55b-36c7e94dd18e"
   },
   "outputs": [
    {
     "data": {
      "text/plain": [
       "<AxesSubplot:xlabel='g-0'>"
      ]
     },
     "execution_count": 37,
     "metadata": {},
     "output_type": "execute_result"
    },
    {
     "data": {
      "image/png": "[encoded data removed]",
      "text/plain": [
       "<Figure size 432x288 with 1 Axes>"
      ]
     },
     "metadata": {},
     "output_type": "display_data"
    }
   ],
   "source": [
    "sns.boxplot(x='g-0' , data=dados)"
   ]
  },
  {
   "cell_type": "markdown",
   "metadata": {
    "id": "-4kvTdIE3d0W"
   },
   "source": [
    "Podemos também, além de definir apenas os dados que irão no eixo x, definimos os dados para o outro eixo, atribuindo um valor para o parâmetro ```y``` (```y = variável que vai ser plotada neste eixo```).\n",
    "Como podemos perceber, no boxplot que representa o ```tratamento = com_droga``` apresenta muitos outliers e isso gera uma discussão bastante interessante pois, do ponto de vista biológico a investigação desses pontos é importante mas, dependendo da área que estamos trabalhando, esse ponto pode apresentar outras soluções. \n",
    "Dito isso, é importante para um cientista de dados não só entender e manipular a base de dados mas também saber acerca do negócio que estamos tratando."
   ]
  },
  {
   "cell_type": "code",
   "execution_count": 38,
   "metadata": {
    "colab": {
     "base_uri": "https://localhost:8080/",
     "height": 520
    },
    "executionInfo": {
     "elapsed": 1653,
     "status": "ok",
     "timestamp": 1618427439267,
     "user": {
      "displayName": "alura cursos",
      "photoUrl": "",
      "userId": "17957571670599323429"
     },
     "user_tz": 180
    },
    "id": "h87JI4a_yNa1",
    "outputId": "d5842dce-55c8-4d7b-f6a8-14a66a87c2e8"
   },
   "outputs": [
    {
     "data": {
      "text/plain": [
       "<AxesSubplot:xlabel='tratamento', ylabel='g-0'>"
      ]
     },
     "execution_count": 38,
     "metadata": {},
     "output_type": "execute_result"
    },
    {
     "data": {
      "image/png": "[encoded data removed]",
      "text/plain": [
       "<Figure size 720x576 with 1 Axes>"
      ]
     },
     "metadata": {},
     "output_type": "display_data"
    }
   ],
   "source": [
    "plt.figure(figsize=(10,8))\n",
    "sns.boxplot(y='g-0', x='tratamento' , data=dados)"
   ]
  },
  {
   "cell_type": "markdown",
   "metadata": {
    "id": "KbXSuyvbqdTE"
   },
   "source": [
    "# Desafios"
   ]
  },
  {
   "cell_type": "markdown",
   "metadata": {
    "id": "X_Lg2XTu20ND"
   },
   "source": [
    "### Desafio 01: Ordenar o gráfico countplot"
   ]
  },
  {
   "cell_type": "code",
   "execution_count": 50,
   "metadata": {},
   "outputs": [
    {
     "data": {
      "image/png": "[encoded data removed]",
      "text/plain": [
       "<Figure size 576x432 with 1 Axes>"
      ]
     },
     "metadata": {},
     "output_type": "display_data"
    }
   ],
   "source": [
    "plt.figure(figsize=(8, 6))\n",
    "\n",
    "ax = sns.countplot(x = 'composto', \n",
    "                   data=dados.query('composto in @cod_compostos'),\n",
    "                   order=dados.query('composto in @cod_compostos')['composto'].value_counts().index\n",
    "                  )\n",
    "\n",
    "ax.set_title('Top 5 compostos')\n",
    "plt.show()"
   ]
  },
  {
   "cell_type": "markdown",
   "metadata": {
    "id": "X_Lg2XTu20ND"
   },
   "source": [
    "### Desafio 02: Melhorar a visualização alterando tamanho da fonte..."
   ]
  },
  {
   "cell_type": "code",
   "execution_count": 66,
   "metadata": {},
   "outputs": [
    {
     "data": {
      "image/png": "[encoded data removed]",
      "text/plain": [
       "<Figure size 576x432 with 1 Axes>"
      ]
     },
     "metadata": {},
     "output_type": "display_data"
    }
   ],
   "source": [
    "from matplotlib import rc, rcParams\n",
    "\n",
    "# Define o tamanho da figura\n",
    "plt.figure(figsize=(8, 6))\n",
    "\n",
    "# Plot do gráfico\n",
    "ax = sns.countplot(x = 'composto', \n",
    "                   data=dados.query('composto in @cod_compostos'),\n",
    "                   order=dados.query('composto in @cod_compostos')['composto'].value_counts().index)\n",
    "\n",
    "# Configuração geral da fonte que será utilizada nos eixos\n",
    "font = {'fontsize':15, 'weight':'bold'}\n",
    "plt.tick_params(axis='both', labelsize=15)\n",
    "\n",
    "# Formatação do título\n",
    "ax.set_title('Top 5 compostos', fontdict =  {'fontsize':25, 'weight':'bold'})\n",
    "\n",
    "# Formatação do eixo x\n",
    "plt.xlabel('Composto', fontdict = font)\n",
    "\n",
    "# Formatação do eixo y\n",
    "plt.ylabel('Quantidade do composto', fontdict = font)\n",
    "\n",
    "plt.tight_layout()\n",
    "plt.show()"
   ]
  },
  {
   "cell_type": "markdown",
   "metadata": {
    "id": "X_Lg2XTu20ND"
   },
   "source": [
    "### Desafio 03: Plotar os histogramas com seaborn"
   ]
  },
  {
   "cell_type": "code",
   "execution_count": 162,
   "metadata": {},
   "outputs": [],
   "source": [
    "# Criando uma função \n",
    "def hist_kde(var):\n",
    "    # Define o tamanho da figura\n",
    "    plt.figure(figsize=(6,6))\n",
    "    \n",
    "    # Plota o gráfico\n",
    "    sns.histplot(data=dados, x=var, kde=True, bins=20, fill=True, color='red')\n",
    "    \n",
    "    # Configuração geral da fonte que será utilizada nos eixos\n",
    "    font = {'fontsize':15, 'weight':'bold', 'color':'green'}\n",
    "    plt.tick_params(axis='both', labelsize=15)\n",
    "\n",
    "    # Formatação do título\n",
    "    plt.title('{}'.format(var), fontdict =  {'size':20, 'weight':'bold', 'color':'green'})\n",
    "\n",
    "    # Formatação do eixo x\n",
    "    plt.xlabel('Composto', fontdict = font)\n",
    "\n",
    "    # Formatação do eixo y\n",
    "    plt.ylabel('Quantidade do composto', fontdict = font)\n"
   ]
  },
  {
   "cell_type": "code",
   "execution_count": 163,
   "metadata": {},
   "outputs": [
    {
     "data": {
      "image/png": "[encoded data removed]",
      "text/plain": [
       "<Figure size 432x432 with 1 Axes>"
      ]
     },
     "metadata": {
      "needs_background": "light"
     },
     "output_type": "display_data"
    }
   ],
   "source": [
    "# Plotar o gráfico\n",
    "hist_kde('g-0')"
   ]
  },
  {
   "cell_type": "code",
   "execution_count": 164,
   "metadata": {},
   "outputs": [
    {
     "data": {
      "image/png": "[encoded data removed]",
      "text/plain": [
       "<Figure size 432x432 with 1 Axes>"
      ]
     },
     "metadata": {
      "needs_background": "light"
     },
     "output_type": "display_data"
    }
   ],
   "source": [
    "hist_kde('g-1')"
   ]
  },
  {
   "cell_type": "code",
   "execution_count": 165,
   "metadata": {},
   "outputs": [],
   "source": [
    "# Salvando as configurações atuais\n",
    "IPython_default = plt.rcParams.copy()"
   ]
  },
  {
   "cell_type": "code",
   "execution_count": 166,
   "metadata": {},
   "outputs": [],
   "source": [
    "# reseta rcParams\n",
    "import warnings\n",
    "warnings.filterwarnings(action='ignore')\n",
    "plt.rcParams.update(IPython_default)"
   ]
  },
  {
   "cell_type": "code",
   "execution_count": 167,
   "metadata": {},
   "outputs": [
    {
     "data": {
      "image/png": "[encoded data removed]",
      "text/plain": [
       "<Figure size 432x432 with 1 Axes>"
      ]
     },
     "metadata": {},
     "output_type": "display_data"
    }
   ],
   "source": [
    "with plt.style.context('fivethirtyeight'):\n",
    "    hist_kde('g-2')"
   ]
  },
  {
   "cell_type": "code",
   "execution_count": 168,
   "metadata": {},
   "outputs": [
    {
     "data": {
      "image/png": "[encoded data removed]",
      "text/plain": [
       "<Figure size 432x432 with 1 Axes>"
      ]
     },
     "metadata": {},
     "output_type": "display_data"
    }
   ],
   "source": [
    "with plt.style.context('ggplot'):\n",
    "    hist_kde('g-3')"
   ]
  },
  {
   "cell_type": "code",
   "execution_count": 169,
   "metadata": {},
   "outputs": [
    {
     "data": {
      "image/png": "[encoded data removed]",
      "text/plain": [
       "<Figure size 432x432 with 1 Axes>"
      ]
     },
     "metadata": {},
     "output_type": "display_data"
    }
   ],
   "source": [
    "with plt.style.context('dark_background'):\n",
    "    hist_kde('g-4')"
   ]
  },
  {
   "cell_type": "markdown",
   "metadata": {
    "id": "X_Lg2XTu20ND"
   },
   "source": [
    "### Desafio 04: Estudar sobre as estatíticas retornadas no .describe()"
   ]
  },
  {
   "cell_type": "code",
   "execution_count": 182,
   "metadata": {},
   "outputs": [
    {
     "data": {
      "text/html": [
       "<div>\n",
       "<style scoped>\n",
       "    .dataframe tbody tr th:only-of-type {\n",
       "        vertical-align: middle;\n",
       "    }\n",
       "\n",
       "    .dataframe tbody tr th {\n",
       "        vertical-align: top;\n",
       "    }\n",
       "\n",
       "    .dataframe thead th {\n",
       "        text-align: right;\n",
       "    }\n",
       "</style>\n",
       "<table border=\"1\" class=\"dataframe\">\n",
       "  <thead>\n",
       "    <tr style=\"text-align: right;\">\n",
       "      <th></th>\n",
       "      <th>tempo</th>\n",
       "      <th>g-0</th>\n",
       "      <th>g-1</th>\n",
       "      <th>g-2</th>\n",
       "      <th>g-3</th>\n",
       "      <th>g-4</th>\n",
       "      <th>g-5</th>\n",
       "      <th>g-6</th>\n",
       "      <th>g-7</th>\n",
       "      <th>g-8</th>\n",
       "      <th>...</th>\n",
       "      <th>c-90</th>\n",
       "      <th>c-91</th>\n",
       "      <th>c-92</th>\n",
       "      <th>c-93</th>\n",
       "      <th>c-94</th>\n",
       "      <th>c-95</th>\n",
       "      <th>c-96</th>\n",
       "      <th>c-97</th>\n",
       "      <th>c-98</th>\n",
       "      <th>c-99</th>\n",
       "    </tr>\n",
       "  </thead>\n",
       "  <tbody>\n",
       "    <tr>\n",
       "      <th>count</th>\n",
       "      <td>23814.000000</td>\n",
       "      <td>23814.000000</td>\n",
       "      <td>23814.000000</td>\n",
       "      <td>23814.000000</td>\n",
       "      <td>23814.000000</td>\n",
       "      <td>23814.000000</td>\n",
       "      <td>23814.000000</td>\n",
       "      <td>23814.000000</td>\n",
       "      <td>23814.000000</td>\n",
       "      <td>23814.000000</td>\n",
       "      <td>...</td>\n",
       "      <td>23814.000000</td>\n",
       "      <td>23814.000000</td>\n",
       "      <td>23814.000000</td>\n",
       "      <td>23814.000000</td>\n",
       "      <td>23814.000000</td>\n",
       "      <td>23814.000000</td>\n",
       "      <td>23814.000000</td>\n",
       "      <td>23814.000000</td>\n",
       "      <td>23814.000000</td>\n",
       "      <td>23814.000000</td>\n",
       "    </tr>\n",
       "    <tr>\n",
       "      <th>mean</th>\n",
       "      <td>48.020156</td>\n",
       "      <td>0.248366</td>\n",
       "      <td>-0.095684</td>\n",
       "      <td>0.152253</td>\n",
       "      <td>0.081971</td>\n",
       "      <td>0.057347</td>\n",
       "      <td>-0.138836</td>\n",
       "      <td>0.035961</td>\n",
       "      <td>-0.202651</td>\n",
       "      <td>-0.190083</td>\n",
       "      <td>...</td>\n",
       "      <td>-0.469244</td>\n",
       "      <td>-0.461411</td>\n",
       "      <td>-0.513256</td>\n",
       "      <td>-0.500142</td>\n",
       "      <td>-0.507093</td>\n",
       "      <td>-0.353726</td>\n",
       "      <td>-0.463485</td>\n",
       "      <td>-0.378241</td>\n",
       "      <td>-0.470252</td>\n",
       "      <td>-0.301505</td>\n",
       "    </tr>\n",
       "    <tr>\n",
       "      <th>std</th>\n",
       "      <td>19.402807</td>\n",
       "      <td>1.393399</td>\n",
       "      <td>0.812363</td>\n",
       "      <td>1.035731</td>\n",
       "      <td>0.950012</td>\n",
       "      <td>1.032091</td>\n",
       "      <td>1.179388</td>\n",
       "      <td>0.882395</td>\n",
       "      <td>1.125494</td>\n",
       "      <td>1.749885</td>\n",
       "      <td>...</td>\n",
       "      <td>2.000488</td>\n",
       "      <td>2.042475</td>\n",
       "      <td>2.001714</td>\n",
       "      <td>2.107105</td>\n",
       "      <td>2.159589</td>\n",
       "      <td>1.629291</td>\n",
       "      <td>2.059725</td>\n",
       "      <td>1.703615</td>\n",
       "      <td>1.834828</td>\n",
       "      <td>1.407918</td>\n",
       "    </tr>\n",
       "    <tr>\n",
       "      <th>min</th>\n",
       "      <td>24.000000</td>\n",
       "      <td>-5.513000</td>\n",
       "      <td>-5.737000</td>\n",
       "      <td>-9.104000</td>\n",
       "      <td>-5.998000</td>\n",
       "      <td>-6.369000</td>\n",
       "      <td>-10.000000</td>\n",
       "      <td>-10.000000</td>\n",
       "      <td>-10.000000</td>\n",
       "      <td>-10.000000</td>\n",
       "      <td>...</td>\n",
       "      <td>-10.000000</td>\n",
       "      <td>-10.000000</td>\n",
       "      <td>-10.000000</td>\n",
       "      <td>-10.000000</td>\n",
       "      <td>-10.000000</td>\n",
       "      <td>-10.000000</td>\n",
       "      <td>-10.000000</td>\n",
       "      <td>-10.000000</td>\n",
       "      <td>-10.000000</td>\n",
       "      <td>-10.000000</td>\n",
       "    </tr>\n",
       "    <tr>\n",
       "      <th>25%</th>\n",
       "      <td>24.000000</td>\n",
       "      <td>-0.473075</td>\n",
       "      <td>-0.562200</td>\n",
       "      <td>-0.437750</td>\n",
       "      <td>-0.429575</td>\n",
       "      <td>-0.470925</td>\n",
       "      <td>-0.602225</td>\n",
       "      <td>-0.493900</td>\n",
       "      <td>-0.525175</td>\n",
       "      <td>-0.511675</td>\n",
       "      <td>...</td>\n",
       "      <td>-0.566175</td>\n",
       "      <td>-0.565975</td>\n",
       "      <td>-0.589975</td>\n",
       "      <td>-0.568700</td>\n",
       "      <td>-0.563775</td>\n",
       "      <td>-0.567975</td>\n",
       "      <td>-0.552575</td>\n",
       "      <td>-0.561000</td>\n",
       "      <td>-0.592600</td>\n",
       "      <td>-0.562900</td>\n",
       "    </tr>\n",
       "    <tr>\n",
       "      <th>50%</th>\n",
       "      <td>48.000000</td>\n",
       "      <td>-0.008850</td>\n",
       "      <td>-0.046600</td>\n",
       "      <td>0.075200</td>\n",
       "      <td>0.008050</td>\n",
       "      <td>-0.026900</td>\n",
       "      <td>-0.015650</td>\n",
       "      <td>-0.000650</td>\n",
       "      <td>-0.017900</td>\n",
       "      <td>0.010000</td>\n",
       "      <td>...</td>\n",
       "      <td>-0.009900</td>\n",
       "      <td>0.003250</td>\n",
       "      <td>-0.009100</td>\n",
       "      <td>-0.013750</td>\n",
       "      <td>-0.003300</td>\n",
       "      <td>-0.010250</td>\n",
       "      <td>-0.001250</td>\n",
       "      <td>-0.006800</td>\n",
       "      <td>0.014000</td>\n",
       "      <td>-0.019500</td>\n",
       "    </tr>\n",
       "    <tr>\n",
       "      <th>75%</th>\n",
       "      <td>72.000000</td>\n",
       "      <td>0.525700</td>\n",
       "      <td>0.403075</td>\n",
       "      <td>0.663925</td>\n",
       "      <td>0.463400</td>\n",
       "      <td>0.465375</td>\n",
       "      <td>0.510425</td>\n",
       "      <td>0.528725</td>\n",
       "      <td>0.411900</td>\n",
       "      <td>0.549225</td>\n",
       "      <td>...</td>\n",
       "      <td>0.457750</td>\n",
       "      <td>0.461500</td>\n",
       "      <td>0.445675</td>\n",
       "      <td>0.452900</td>\n",
       "      <td>0.470900</td>\n",
       "      <td>0.444750</td>\n",
       "      <td>0.465225</td>\n",
       "      <td>0.446400</td>\n",
       "      <td>0.461275</td>\n",
       "      <td>0.438650</td>\n",
       "    </tr>\n",
       "    <tr>\n",
       "      <th>max</th>\n",
       "      <td>72.000000</td>\n",
       "      <td>10.000000</td>\n",
       "      <td>5.039000</td>\n",
       "      <td>8.257000</td>\n",
       "      <td>10.000000</td>\n",
       "      <td>10.000000</td>\n",
       "      <td>7.282000</td>\n",
       "      <td>7.333000</td>\n",
       "      <td>5.473000</td>\n",
       "      <td>8.887000</td>\n",
       "      <td>...</td>\n",
       "      <td>4.069000</td>\n",
       "      <td>3.960000</td>\n",
       "      <td>3.927000</td>\n",
       "      <td>3.596000</td>\n",
       "      <td>3.747000</td>\n",
       "      <td>2.814000</td>\n",
       "      <td>3.505000</td>\n",
       "      <td>2.924000</td>\n",
       "      <td>3.111000</td>\n",
       "      <td>3.805000</td>\n",
       "    </tr>\n",
       "  </tbody>\n",
       "</table>\n",
       "<p>8 rows × 873 columns</p>\n",
       "</div>"
      ],
      "text/plain": [
       "              tempo           g-0           g-1           g-2           g-3  \\\n",
       "count  23814.000000  23814.000000  23814.000000  23814.000000  23814.000000   \n",
       "mean      48.020156      0.248366     -0.095684      0.152253      0.081971   \n",
       "std       19.402807      1.393399      0.812363      1.035731      0.950012   \n",
       "min       24.000000     -5.513000     -5.737000     -9.104000     -5.998000   \n",
       "25%       24.000000     -0.473075     -0.562200     -0.437750     -0.429575   \n",
       "50%       48.000000     -0.008850     -0.046600      0.075200      0.008050   \n",
       "75%       72.000000      0.525700      0.403075      0.663925      0.463400   \n",
       "max       72.000000     10.000000      5.039000      8.257000     10.000000   \n",
       "\n",
       "                g-4           g-5           g-6           g-7           g-8  \\\n",
       "count  23814.000000  23814.000000  23814.000000  23814.000000  23814.000000   \n",
       "mean       0.057347     -0.138836      0.035961     -0.202651     -0.190083   \n",
       "std        1.032091      1.179388      0.882395      1.125494      1.749885   \n",
       "min       -6.369000    -10.000000    -10.000000    -10.000000    -10.000000   \n",
       "25%       -0.470925     -0.602225     -0.493900     -0.525175     -0.511675   \n",
       "50%       -0.026900     -0.015650     -0.000650     -0.017900      0.010000   \n",
       "75%        0.465375      0.510425      0.528725      0.411900      0.549225   \n",
       "max       10.000000      7.282000      7.333000      5.473000      8.887000   \n",
       "\n",
       "       ...          c-90          c-91          c-92          c-93  \\\n",
       "count  ...  23814.000000  23814.000000  23814.000000  23814.000000   \n",
       "mean   ...     -0.469244     -0.461411     -0.513256     -0.500142   \n",
       "std    ...      2.000488      2.042475      2.001714      2.107105   \n",
       "min    ...    -10.000000    -10.000000    -10.000000    -10.000000   \n",
       "25%    ...     -0.566175     -0.565975     -0.589975     -0.568700   \n",
       "50%    ...     -0.009900      0.003250     -0.009100     -0.013750   \n",
       "75%    ...      0.457750      0.461500      0.445675      0.452900   \n",
       "max    ...      4.069000      3.960000      3.927000      3.596000   \n",
       "\n",
       "               c-94          c-95          c-96          c-97          c-98  \\\n",
       "count  23814.000000  23814.000000  23814.000000  23814.000000  23814.000000   \n",
       "mean      -0.507093     -0.353726     -0.463485     -0.378241     -0.470252   \n",
       "std        2.159589      1.629291      2.059725      1.703615      1.834828   \n",
       "min      -10.000000    -10.000000    -10.000000    -10.000000    -10.000000   \n",
       "25%       -0.563775     -0.567975     -0.552575     -0.561000     -0.592600   \n",
       "50%       -0.003300     -0.010250     -0.001250     -0.006800      0.014000   \n",
       "75%        0.470900      0.444750      0.465225      0.446400      0.461275   \n",
       "max        3.747000      2.814000      3.505000      2.924000      3.111000   \n",
       "\n",
       "               c-99  \n",
       "count  23814.000000  \n",
       "mean      -0.301505  \n",
       "std        1.407918  \n",
       "min      -10.000000  \n",
       "25%       -0.562900  \n",
       "50%       -0.019500  \n",
       "75%        0.438650  \n",
       "max        3.805000  \n",
       "\n",
       "[8 rows x 873 columns]"
      ]
     },
     "execution_count": 182,
     "metadata": {},
     "output_type": "execute_result"
    }
   ],
   "source": [
    "dados.describe()"
   ]
  },
  {
   "cell_type": "markdown",
   "metadata": {
    "id": "X_Lg2XTu20ND"
   },
   "source": [
    "### Desafio 05: Refletir sobre a manipulação do tamanho das visualizações. "
   ]
  },
  {
   "cell_type": "code",
   "execution_count": null,
   "metadata": {},
   "outputs": [],
   "source": []
  },
  {
   "cell_type": "markdown",
   "metadata": {
    "id": "X_Lg2XTu20ND"
   },
   "source": [
    "### Desafio 06: Fazer outras análises com o boxplot e até com o histograma. "
   ]
  },
  {
   "cell_type": "code",
   "execution_count": 183,
   "metadata": {},
   "outputs": [
    {
     "data": {
      "text/plain": [
       "<Figure size 720x720 with 0 Axes>"
      ]
     },
     "metadata": {},
     "output_type": "display_data"
    },
    {
     "data": {
      "image/png": "[encoded data removed]",
      "text/plain": [
       "<Figure size 814.85x720 with 20 Axes>"
      ]
     },
     "metadata": {},
     "output_type": "display_data"
    }
   ],
   "source": [
    "# De modo a verificar as distribuições dos compostos em relação a sequência do gene\n",
    "sns.set_theme(style=\"ticks\")\n",
    "\n",
    "plt.figure(figsize=(10, 10))\n",
    "\n",
    "ax = sns.pairplot(data=dados.query('composto in @cod_compostos')[['composto','g-0','g-1','g-2','g-3']], hue='composto')\n",
    "\n",
    "plt.show()"
   ]
  },
  {
   "cell_type": "code",
   "execution_count": 191,
   "metadata": {},
   "outputs": [
    {
     "data": {
      "image/png": "[encoded data removed]",
      "text/plain": [
       "<Figure size 720x720 with 1 Axes>"
      ]
     },
     "metadata": {},
     "output_type": "display_data"
    }
   ],
   "source": [
    "plt.figure(figsize=(10, 10))\n",
    "\n",
    "sns.violinplot(data=dados, x=\"tratamento\", y=\"g-0\", hue=\"dose\",\n",
    "               split=True, inner=\"quart\", linewidth=1,\n",
    "               palette={\"D1\": \"b\", \"D2\": \".85\"})\n",
    "sns.despine(left=True)"
   ]
  },
  {
   "cell_type": "markdown",
   "metadata": {
    "id": "X_Lg2XTu20ND"
   },
   "source": [
    "### Desafio 07: Resumo do que você aprendeu com os dados"
   ]
  },
  {
   "cell_type": "code",
   "execution_count": null,
   "metadata": {},
   "outputs": [],
   "source": []
  }
 ],
 "metadata": {
  "colab": {
   "collapsed_sections": [
    "UIsjjtsF74vf",
    "KbXSuyvbqdTE"
   ],
   "name": "Aula02.ipynb",
   "provenance": [
    {
     "file_id": "1iy41ZJY2N0K9TvhZKOgjO58WjC7atXHQ",
     "timestamp": 1619537154579
    },
    {
     "file_id": "1I0QF_X7fykLHQdVcXPtF8tGa1qTbDLxM",
     "timestamp": 1619099732888
    }
   ]
  },
  "kernelspec": {
   "display_name": "Python 3",
   "language": "python",
   "name": "python3"
  },
  "language_info": {
   "codemirror_mode": {
    "name": "ipython",
    "version": 3
   },
   "file_extension": ".py",
   "mimetype": "text/x-python",
   "name": "python",
   "nbconvert_exporter": "python",
   "pygments_lexer": "ipython3",
   "version": "3.8.8"
  }
 },
 "nbformat": 4,
 "nbformat_minor": 4
}
